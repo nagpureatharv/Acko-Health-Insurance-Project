{
  "nbformat": 4,
  "nbformat_minor": 0,
  "metadata": {
    "colab": {
      "provenance": []
    },
    "kernelspec": {
      "name": "python3",
      "display_name": "Python 3"
    },
    "language_info": {
      "name": "python"
    }
  },
  "cells": [
    {
      "cell_type": "markdown",
      "source": [
        "# **Acko Health Insurance: Data-Driven Insurance Premium Pricing Strategy**\n"
      ],
      "metadata": {
        "id": "3hF1ZkQ45UP6"
      }
    },
    {
      "cell_type": "markdown",
      "source": [
        "Acko is an online insurance company in India that offers a variety of insurance products, including car, bike, health, and travel insurance.\n",
        "\n",
        "Acko, a digital insurance provider, is launching a new health insurance product and requires a data-driven approach to determine the optimal insurance premium pricing for different customer segments."
      ],
      "metadata": {
        "id": "C9-oLBdj5iLd"
      }
    },
    {
      "cell_type": "markdown",
      "source": [
        "## **Objective**\n"
      ],
      "metadata": {
        "id": "kiavzuGj5xQl"
      }
    },
    {
      "cell_type": "markdown",
      "source": [
        "\n",
        "\n",
        "* To determine an optimal premium pricing strategy that balances business profitability with customer affordability, leveraging available demographic, financial, and behavioral data.\n",
        "* The primary objective is to develop a rule-based logical formula to calculate the final premium price for each customer based on their demographic, risk and affordability profile.\n",
        "\n",
        "\n"
      ],
      "metadata": {
        "id": "II42wtqB55Ix"
      }
    },
    {
      "cell_type": "markdown",
      "source": [
        "## **Business Impact**"
      ],
      "metadata": {
        "id": "fdf0y1bp6Fqt"
      }
    },
    {
      "cell_type": "markdown",
      "source": [
        "* **Increased Profitability**:Ensures premiums reflect customer risk levels, reducing losses from underpricing and maximizing revenue.\n",
        "* **Better Customer Acquisition & Retention**: Affordable, customized premiums attract new customers and improve loyalty by offering fair pricing.\n",
        "* **Faster Market Launch**:A simple rule-based model allows quick product rollout and easy updates for new customer segments.\n",
        "* **Enhanced Trust & Compliance:**Transparent pricing builds customer trust and ensures alignment with regulatory standards.\n"
      ],
      "metadata": {
        "id": "iWIhzc2V6N8R"
      }
    },
    {
      "cell_type": "markdown",
      "source": [
        "## **Dataset Information**"
      ],
      "metadata": {
        "id": "P27xOQoS63wD"
      }
    },
    {
      "cell_type": "markdown",
      "source": [
        "* **Dataset**: Acko Dataset\n",
        "* **Count of Rows** : 1200000\n",
        "* **Count of Columns**: 20"
      ],
      "metadata": {
        "id": "zoEoEsLi6__S"
      }
    },
    {
      "cell_type": "markdown",
      "source": [
        "## **Explanation of Data Columns**"
      ],
      "metadata": {
        "id": "SumqBdCI7o33"
      }
    },
    {
      "cell_type": "markdown",
      "source": [
        "*   **id (Customer ID)**: A unique identifier assigned to each customer in the dataset.\n",
        "\n",
        "*   **Age (Customer Age)**: The age of the customer in years at the time of policy purchase.\n",
        "\n",
        "*   **Gender (Customer Gender)**: The gender identity of the customer, which can be \"Man\" or \"Woman.\"\n",
        "\n",
        "*   **Annual Income (Yearly Earnings in INR)**:  The total income earned by the customer in a year, measured in Indian Rupees (INR).\n",
        "\n",
        "*   **Marital Status (Customer’s Marital Condition)**: The marital status of the customer, such as \"Spouse Present,\" \"Not Married,\" or \"Formerly Married.\"\n",
        "\n",
        "*   **Number of Dependents (People Financially Dependent on Customer)**: The number of dependents (such as children, parents, or others) that rely on the customer financially.\n",
        "\n",
        "*   **Education Level (Highest Education Attained)**: The highest level of education completed by the customer, such as \"Undergraduate\" or \"Post Graduate.\"\n",
        "\n",
        "*   **Occupation (Customer's Job Type)**: The profession or employment category of the customer. In some cases, this data may be missing.\n",
        "\n",
        "*   **Health Score (Overall Health Indicator)**: A numerical score representing the customer’s health condition based on lifestyle factors and medical history.Less score mean fit, more means unfit.\n",
        "\n",
        "*   **Location (Customer’s Residence Tier)**: he classification of the customer's residence area into tiers such as Tier-1, Tier-2, or Tier-3 cities.\n",
        "\n",
        "\n",
        "*    **Policy Type (Type of Insurance Policy Chosen)**: The category of insurance policy purchased by the customer, such as \"Basic,\" \"Premium,\" or \"Comprehensive.\"\n",
        "\n",
        "\n",
        "*   **Previous Claims (Number of Past Insurance Claims)**: The total number of insurance claims the customer has made before purchasing the current policy.\n",
        "\n",
        "\n",
        "*   **Credit Score (Financial Responsibility Indicator)**: A numerical representation of the customer’s creditworthiness, indicating their ability to manage finances and make timely payments.\n",
        "\n",
        "\n",
        "*   **Insurance Duration (Policy Tenure in Years):**: The number of years the customer has held the insurance policy.\n",
        "\n",
        "\n",
        "*   **Policy Start Date (Date When Policy Became Active)**: The date when the insurance policy was purchased and became active.\n",
        "\n",
        "\n",
        "*   **Customer Feedback (Customer Satisfaction Rating)**: The rating or feedback provided by the customer about their experience with the insurance policy.\n",
        "\n",
        "\n",
        "*   **Smoking Status (Whether the Customer Smokes)**: Indicates whether the customer is a smoker or not, as smoking impacts health risks and insurance premiums.\n",
        "\n",
        "\n",
        "*  **Exercise Frequency (How Often the Customer Exercises)**:The frequency of physical exercise performed by the customer, which can impact their health score.\n",
        "\n",
        "\n",
        "*   **Property Type (Type of Residence)**: The type of home the customer resides in, such as a detached home or an apartment.\n",
        "\n",
        "*   **Premium Amount (Final Insurance Premium in INR)**: The amount the customer pays for their health insurance policy, measured in Indian Rupees (INR)."
      ],
      "metadata": {
        "id": "hYfIHl6M75Pe"
      }
    },
    {
      "cell_type": "markdown",
      "source": [
        "## **Import Data**"
      ],
      "metadata": {
        "id": "D0g_5Mim-4n4"
      }
    },
    {
      "cell_type": "code",
      "source": [
        "# Step 1: Install gdown\n",
        "!pip install gdown\n",
        "\n",
        "# Step 2: Import necessary libraries\n",
        "import gdown\n",
        "import pandas as pd\n",
        "\n",
        "# Step 3: Set the file ID and create a download URL\n",
        "file_id = \"1i4ia9ZNfAXgu6JGTXCUgFn7Pb8wltzLH\"\n",
        "download_url = f\"https://drive.google.com/uc?id={file_id}\"\n",
        "\n",
        "# Step 4: Set the output file name\n",
        "output_file = \"acko_dataset.csv\"\n",
        "\n",
        "# Step 5: Download the file\n",
        "gdown.download(download_url, output_file, quiet=False)\n",
        "\n",
        "# Step 6: Load the CSV file into a Pandas DataFrame\n",
        "data = pd.read_csv(output_file)"
      ],
      "metadata": {
        "colab": {
          "base_uri": "https://localhost:8080/"
        },
        "id": "aGi2qXpK-86D",
        "outputId": "ecf40dd9-dc01-4072-e729-0633886caa29"
      },
      "execution_count": null,
      "outputs": [
        {
          "output_type": "stream",
          "name": "stdout",
          "text": [
            "Requirement already satisfied: gdown in /usr/local/lib/python3.11/dist-packages (5.2.0)\n",
            "Requirement already satisfied: beautifulsoup4 in /usr/local/lib/python3.11/dist-packages (from gdown) (4.13.3)\n",
            "Requirement already satisfied: filelock in /usr/local/lib/python3.11/dist-packages (from gdown) (3.17.0)\n",
            "Requirement already satisfied: requests[socks] in /usr/local/lib/python3.11/dist-packages (from gdown) (2.32.3)\n",
            "Requirement already satisfied: tqdm in /usr/local/lib/python3.11/dist-packages (from gdown) (4.67.1)\n",
            "Requirement already satisfied: soupsieve>1.2 in /usr/local/lib/python3.11/dist-packages (from beautifulsoup4->gdown) (2.6)\n",
            "Requirement already satisfied: typing-extensions>=4.0.0 in /usr/local/lib/python3.11/dist-packages (from beautifulsoup4->gdown) (4.12.2)\n",
            "Requirement already satisfied: charset-normalizer<4,>=2 in /usr/local/lib/python3.11/dist-packages (from requests[socks]->gdown) (3.4.1)\n",
            "Requirement already satisfied: idna<4,>=2.5 in /usr/local/lib/python3.11/dist-packages (from requests[socks]->gdown) (3.10)\n",
            "Requirement already satisfied: urllib3<3,>=1.21.1 in /usr/local/lib/python3.11/dist-packages (from requests[socks]->gdown) (2.3.0)\n",
            "Requirement already satisfied: certifi>=2017.4.17 in /usr/local/lib/python3.11/dist-packages (from requests[socks]->gdown) (2025.1.31)\n",
            "Requirement already satisfied: PySocks!=1.5.7,>=1.5.6 in /usr/local/lib/python3.11/dist-packages (from requests[socks]->gdown) (1.7.1)\n"
          ]
        },
        {
          "output_type": "stream",
          "name": "stderr",
          "text": [
            "Downloading...\n",
            "From (original): https://drive.google.com/uc?id=1i4ia9ZNfAXgu6JGTXCUgFn7Pb8wltzLH\n",
            "From (redirected): https://drive.google.com/uc?id=1i4ia9ZNfAXgu6JGTXCUgFn7Pb8wltzLH&confirm=t&uuid=58922796-c0e5-406b-bc6a-07492803306f\n",
            "To: /content/acko_dataset.csv\n",
            "100%|██████████| 219M/219M [00:04<00:00, 50.2MB/s]\n"
          ]
        }
      ]
    },
    {
      "cell_type": "code",
      "source": [
        "import pandas as pd\n",
        "import numpy as np\n",
        "import matplotlib.pyplot as plt\n",
        "import seaborn as sns\n",
        "import numpy as np"
      ],
      "metadata": {
        "id": "pXh7K90D_FIc"
      },
      "execution_count": null,
      "outputs": []
    },
    {
      "cell_type": "code",
      "source": [
        "df = pd.read_csv('acko_dataset.csv')"
      ],
      "metadata": {
        "id": "E1QqEt9T_clR"
      },
      "execution_count": null,
      "outputs": []
    },
    {
      "cell_type": "code",
      "source": [
        "df.head(10)"
      ],
      "metadata": {
        "colab": {
          "base_uri": "https://localhost:8080/",
          "height": 554
        },
        "id": "qLoMs7r8_exG",
        "outputId": "00938ec9-6c31-464e-eb1b-1f0d250fe128"
      },
      "execution_count": null,
      "outputs": [
        {
          "output_type": "execute_result",
          "data": {
            "text/plain": [
              "   id   Age Gender  Annual Income    Marital Status  Number of Dependents  \\\n",
              "0   0  19.0  Woman   8.642140e+05    Spouse Present                   1.0   \n",
              "1   1  39.0  Woman   8.927012e+05    Spouse Present                   3.0   \n",
              "2   2  23.0    Man   2.201772e+06  Formerly Married                   3.0   \n",
              "3   3  21.0    Man   3.997542e+06    Spouse Present                   2.0   \n",
              "4   4  21.0    Man   3.409986e+06       Not Married                   1.0   \n",
              "5   5  29.0    Man   1.295259e+06    Spouse Present                   1.0   \n",
              "6   6  41.0    Man   1.136688e+06    Spouse Present                   0.0   \n",
              "7   7  48.0  Woman   8.942382e+06    Spouse Present                   2.0   \n",
              "8   8  21.0    Man   1.490380e+05  Formerly Married                   3.0   \n",
              "9   9  44.0    Man   2.510442e+06    Spouse Present                   2.0   \n",
              "\n",
              "       Education Level        Occupation  Health Score Location  \\\n",
              "0        Undergraduate          Business     26.598761   Tier-1   \n",
              "1        Post Graduate           Missing     21.569731   Tier-2   \n",
              "2        Undergraduate          Business     50.177549   Tier-3   \n",
              "3        Undergraduate           Missing     16.938144   Tier-2   \n",
              "4        Undergraduate          Business     24.376094   Tier-2   \n",
              "5        Post Graduate           Missing     36.053198   Tier-1   \n",
              "6        Undergraduate           Missing           NaN   Tier-2   \n",
              "7  Secondary Education  Full-Time Worker     13.769783   Tier-3   \n",
              "8        Undergraduate           Missing     24.869551   Tier-1   \n",
              "9        Undergraduate  Full-Time Worker     22.473718   Tier-1   \n",
              "\n",
              "     Policy Type  Previous Claims  Credit Score  Insurance Duration  \\\n",
              "0        Premium              2.0         372.0                 5.0   \n",
              "1  Comprehensive              1.0         694.0                 2.0   \n",
              "2        Premium              1.0           NaN                 3.0   \n",
              "3          Basic              1.0         367.0                 1.0   \n",
              "4        Premium              0.0         598.0                 4.0   \n",
              "5        Premium              2.0         614.0                 5.0   \n",
              "6          Basic              2.0         807.0                 6.0   \n",
              "7  Comprehensive              1.0         398.0                 5.0   \n",
              "8        Premium              1.0         685.0                 8.0   \n",
              "9  Comprehensive              1.0         635.0                 3.0   \n",
              "\n",
              "            Policy Start Date Customer Feedback Smoking Status  \\\n",
              "0  2023-12-23 15:21:39.134960              Poor             No   \n",
              "1  2023-06-12 15:21:39.111551           Average            Yes   \n",
              "2  2023-09-30 15:21:39.221386              Good            Yes   \n",
              "3  2024-06-12 15:21:39.226954              Poor            Yes   \n",
              "4  2021-12-01 15:21:39.252145              Poor            Yes   \n",
              "5  2022-05-20 15:21:39.207847           Average             No   \n",
              "6  2020-02-21 15:21:39.219432              Poor             No   \n",
              "7  2022-08-08 15:21:39.181605           Average             No   \n",
              "8  2020-12-14 15:21:39.198406           Average             No   \n",
              "9  2020-08-02 15:21:39.144722              Poor             No   \n",
              "\n",
              "  Exercise Frequency  Property Type  Premium Amount  \n",
              "0             Weekly  Detached Home     1945.913327  \n",
              "1            Monthly  Detached Home    10908.896072  \n",
              "2             Weekly  Detached Home    21563.135198  \n",
              "3              Daily           Flat     2653.539143  \n",
              "4             Weekly  Detached Home     1269.243463  \n",
              "5             Weekly  Detached Home     1252.689000  \n",
              "6             Weekly  Detached Home             NaN  \n",
              "7             Rarely      Apartment    21833.802349  \n",
              "8            Monthly      Apartment    10997.945102  \n",
              "9              Daily      Apartment    10580.678238  "
            ],
            "text/html": [
              "\n",
              "  <div id=\"df-1b0e7209-25de-444c-8077-bd872eb869f6\" class=\"colab-df-container\">\n",
              "    <div>\n",
              "<style scoped>\n",
              "    .dataframe tbody tr th:only-of-type {\n",
              "        vertical-align: middle;\n",
              "    }\n",
              "\n",
              "    .dataframe tbody tr th {\n",
              "        vertical-align: top;\n",
              "    }\n",
              "\n",
              "    .dataframe thead th {\n",
              "        text-align: right;\n",
              "    }\n",
              "</style>\n",
              "<table border=\"1\" class=\"dataframe\">\n",
              "  <thead>\n",
              "    <tr style=\"text-align: right;\">\n",
              "      <th></th>\n",
              "      <th>id</th>\n",
              "      <th>Age</th>\n",
              "      <th>Gender</th>\n",
              "      <th>Annual Income</th>\n",
              "      <th>Marital Status</th>\n",
              "      <th>Number of Dependents</th>\n",
              "      <th>Education Level</th>\n",
              "      <th>Occupation</th>\n",
              "      <th>Health Score</th>\n",
              "      <th>Location</th>\n",
              "      <th>Policy Type</th>\n",
              "      <th>Previous Claims</th>\n",
              "      <th>Credit Score</th>\n",
              "      <th>Insurance Duration</th>\n",
              "      <th>Policy Start Date</th>\n",
              "      <th>Customer Feedback</th>\n",
              "      <th>Smoking Status</th>\n",
              "      <th>Exercise Frequency</th>\n",
              "      <th>Property Type</th>\n",
              "      <th>Premium Amount</th>\n",
              "    </tr>\n",
              "  </thead>\n",
              "  <tbody>\n",
              "    <tr>\n",
              "      <th>0</th>\n",
              "      <td>0</td>\n",
              "      <td>19.0</td>\n",
              "      <td>Woman</td>\n",
              "      <td>8.642140e+05</td>\n",
              "      <td>Spouse Present</td>\n",
              "      <td>1.0</td>\n",
              "      <td>Undergraduate</td>\n",
              "      <td>Business</td>\n",
              "      <td>26.598761</td>\n",
              "      <td>Tier-1</td>\n",
              "      <td>Premium</td>\n",
              "      <td>2.0</td>\n",
              "      <td>372.0</td>\n",
              "      <td>5.0</td>\n",
              "      <td>2023-12-23 15:21:39.134960</td>\n",
              "      <td>Poor</td>\n",
              "      <td>No</td>\n",
              "      <td>Weekly</td>\n",
              "      <td>Detached Home</td>\n",
              "      <td>1945.913327</td>\n",
              "    </tr>\n",
              "    <tr>\n",
              "      <th>1</th>\n",
              "      <td>1</td>\n",
              "      <td>39.0</td>\n",
              "      <td>Woman</td>\n",
              "      <td>8.927012e+05</td>\n",
              "      <td>Spouse Present</td>\n",
              "      <td>3.0</td>\n",
              "      <td>Post Graduate</td>\n",
              "      <td>Missing</td>\n",
              "      <td>21.569731</td>\n",
              "      <td>Tier-2</td>\n",
              "      <td>Comprehensive</td>\n",
              "      <td>1.0</td>\n",
              "      <td>694.0</td>\n",
              "      <td>2.0</td>\n",
              "      <td>2023-06-12 15:21:39.111551</td>\n",
              "      <td>Average</td>\n",
              "      <td>Yes</td>\n",
              "      <td>Monthly</td>\n",
              "      <td>Detached Home</td>\n",
              "      <td>10908.896072</td>\n",
              "    </tr>\n",
              "    <tr>\n",
              "      <th>2</th>\n",
              "      <td>2</td>\n",
              "      <td>23.0</td>\n",
              "      <td>Man</td>\n",
              "      <td>2.201772e+06</td>\n",
              "      <td>Formerly Married</td>\n",
              "      <td>3.0</td>\n",
              "      <td>Undergraduate</td>\n",
              "      <td>Business</td>\n",
              "      <td>50.177549</td>\n",
              "      <td>Tier-3</td>\n",
              "      <td>Premium</td>\n",
              "      <td>1.0</td>\n",
              "      <td>NaN</td>\n",
              "      <td>3.0</td>\n",
              "      <td>2023-09-30 15:21:39.221386</td>\n",
              "      <td>Good</td>\n",
              "      <td>Yes</td>\n",
              "      <td>Weekly</td>\n",
              "      <td>Detached Home</td>\n",
              "      <td>21563.135198</td>\n",
              "    </tr>\n",
              "    <tr>\n",
              "      <th>3</th>\n",
              "      <td>3</td>\n",
              "      <td>21.0</td>\n",
              "      <td>Man</td>\n",
              "      <td>3.997542e+06</td>\n",
              "      <td>Spouse Present</td>\n",
              "      <td>2.0</td>\n",
              "      <td>Undergraduate</td>\n",
              "      <td>Missing</td>\n",
              "      <td>16.938144</td>\n",
              "      <td>Tier-2</td>\n",
              "      <td>Basic</td>\n",
              "      <td>1.0</td>\n",
              "      <td>367.0</td>\n",
              "      <td>1.0</td>\n",
              "      <td>2024-06-12 15:21:39.226954</td>\n",
              "      <td>Poor</td>\n",
              "      <td>Yes</td>\n",
              "      <td>Daily</td>\n",
              "      <td>Flat</td>\n",
              "      <td>2653.539143</td>\n",
              "    </tr>\n",
              "    <tr>\n",
              "      <th>4</th>\n",
              "      <td>4</td>\n",
              "      <td>21.0</td>\n",
              "      <td>Man</td>\n",
              "      <td>3.409986e+06</td>\n",
              "      <td>Not Married</td>\n",
              "      <td>1.0</td>\n",
              "      <td>Undergraduate</td>\n",
              "      <td>Business</td>\n",
              "      <td>24.376094</td>\n",
              "      <td>Tier-2</td>\n",
              "      <td>Premium</td>\n",
              "      <td>0.0</td>\n",
              "      <td>598.0</td>\n",
              "      <td>4.0</td>\n",
              "      <td>2021-12-01 15:21:39.252145</td>\n",
              "      <td>Poor</td>\n",
              "      <td>Yes</td>\n",
              "      <td>Weekly</td>\n",
              "      <td>Detached Home</td>\n",
              "      <td>1269.243463</td>\n",
              "    </tr>\n",
              "    <tr>\n",
              "      <th>5</th>\n",
              "      <td>5</td>\n",
              "      <td>29.0</td>\n",
              "      <td>Man</td>\n",
              "      <td>1.295259e+06</td>\n",
              "      <td>Spouse Present</td>\n",
              "      <td>1.0</td>\n",
              "      <td>Post Graduate</td>\n",
              "      <td>Missing</td>\n",
              "      <td>36.053198</td>\n",
              "      <td>Tier-1</td>\n",
              "      <td>Premium</td>\n",
              "      <td>2.0</td>\n",
              "      <td>614.0</td>\n",
              "      <td>5.0</td>\n",
              "      <td>2022-05-20 15:21:39.207847</td>\n",
              "      <td>Average</td>\n",
              "      <td>No</td>\n",
              "      <td>Weekly</td>\n",
              "      <td>Detached Home</td>\n",
              "      <td>1252.689000</td>\n",
              "    </tr>\n",
              "    <tr>\n",
              "      <th>6</th>\n",
              "      <td>6</td>\n",
              "      <td>41.0</td>\n",
              "      <td>Man</td>\n",
              "      <td>1.136688e+06</td>\n",
              "      <td>Spouse Present</td>\n",
              "      <td>0.0</td>\n",
              "      <td>Undergraduate</td>\n",
              "      <td>Missing</td>\n",
              "      <td>NaN</td>\n",
              "      <td>Tier-2</td>\n",
              "      <td>Basic</td>\n",
              "      <td>2.0</td>\n",
              "      <td>807.0</td>\n",
              "      <td>6.0</td>\n",
              "      <td>2020-02-21 15:21:39.219432</td>\n",
              "      <td>Poor</td>\n",
              "      <td>No</td>\n",
              "      <td>Weekly</td>\n",
              "      <td>Detached Home</td>\n",
              "      <td>NaN</td>\n",
              "    </tr>\n",
              "    <tr>\n",
              "      <th>7</th>\n",
              "      <td>7</td>\n",
              "      <td>48.0</td>\n",
              "      <td>Woman</td>\n",
              "      <td>8.942382e+06</td>\n",
              "      <td>Spouse Present</td>\n",
              "      <td>2.0</td>\n",
              "      <td>Secondary Education</td>\n",
              "      <td>Full-Time Worker</td>\n",
              "      <td>13.769783</td>\n",
              "      <td>Tier-3</td>\n",
              "      <td>Comprehensive</td>\n",
              "      <td>1.0</td>\n",
              "      <td>398.0</td>\n",
              "      <td>5.0</td>\n",
              "      <td>2022-08-08 15:21:39.181605</td>\n",
              "      <td>Average</td>\n",
              "      <td>No</td>\n",
              "      <td>Rarely</td>\n",
              "      <td>Apartment</td>\n",
              "      <td>21833.802349</td>\n",
              "    </tr>\n",
              "    <tr>\n",
              "      <th>8</th>\n",
              "      <td>8</td>\n",
              "      <td>21.0</td>\n",
              "      <td>Man</td>\n",
              "      <td>1.490380e+05</td>\n",
              "      <td>Formerly Married</td>\n",
              "      <td>3.0</td>\n",
              "      <td>Undergraduate</td>\n",
              "      <td>Missing</td>\n",
              "      <td>24.869551</td>\n",
              "      <td>Tier-1</td>\n",
              "      <td>Premium</td>\n",
              "      <td>1.0</td>\n",
              "      <td>685.0</td>\n",
              "      <td>8.0</td>\n",
              "      <td>2020-12-14 15:21:39.198406</td>\n",
              "      <td>Average</td>\n",
              "      <td>No</td>\n",
              "      <td>Monthly</td>\n",
              "      <td>Apartment</td>\n",
              "      <td>10997.945102</td>\n",
              "    </tr>\n",
              "    <tr>\n",
              "      <th>9</th>\n",
              "      <td>9</td>\n",
              "      <td>44.0</td>\n",
              "      <td>Man</td>\n",
              "      <td>2.510442e+06</td>\n",
              "      <td>Spouse Present</td>\n",
              "      <td>2.0</td>\n",
              "      <td>Undergraduate</td>\n",
              "      <td>Full-Time Worker</td>\n",
              "      <td>22.473718</td>\n",
              "      <td>Tier-1</td>\n",
              "      <td>Comprehensive</td>\n",
              "      <td>1.0</td>\n",
              "      <td>635.0</td>\n",
              "      <td>3.0</td>\n",
              "      <td>2020-08-02 15:21:39.144722</td>\n",
              "      <td>Poor</td>\n",
              "      <td>No</td>\n",
              "      <td>Daily</td>\n",
              "      <td>Apartment</td>\n",
              "      <td>10580.678238</td>\n",
              "    </tr>\n",
              "  </tbody>\n",
              "</table>\n",
              "</div>\n",
              "    <div class=\"colab-df-buttons\">\n",
              "\n",
              "  <div class=\"colab-df-container\">\n",
              "    <button class=\"colab-df-convert\" onclick=\"convertToInteractive('df-1b0e7209-25de-444c-8077-bd872eb869f6')\"\n",
              "            title=\"Convert this dataframe to an interactive table.\"\n",
              "            style=\"display:none;\">\n",
              "\n",
              "  <svg xmlns=\"http://www.w3.org/2000/svg\" height=\"24px\" viewBox=\"0 -960 960 960\">\n",
              "    <path d=\"M120-120v-720h720v720H120Zm60-500h600v-160H180v160Zm220 220h160v-160H400v160Zm0 220h160v-160H400v160ZM180-400h160v-160H180v160Zm440 0h160v-160H620v160ZM180-180h160v-160H180v160Zm440 0h160v-160H620v160Z\"/>\n",
              "  </svg>\n",
              "    </button>\n",
              "\n",
              "  <style>\n",
              "    .colab-df-container {\n",
              "      display:flex;\n",
              "      gap: 12px;\n",
              "    }\n",
              "\n",
              "    .colab-df-convert {\n",
              "      background-color: #E8F0FE;\n",
              "      border: none;\n",
              "      border-radius: 50%;\n",
              "      cursor: pointer;\n",
              "      display: none;\n",
              "      fill: #1967D2;\n",
              "      height: 32px;\n",
              "      padding: 0 0 0 0;\n",
              "      width: 32px;\n",
              "    }\n",
              "\n",
              "    .colab-df-convert:hover {\n",
              "      background-color: #E2EBFA;\n",
              "      box-shadow: 0px 1px 2px rgba(60, 64, 67, 0.3), 0px 1px 3px 1px rgba(60, 64, 67, 0.15);\n",
              "      fill: #174EA6;\n",
              "    }\n",
              "\n",
              "    .colab-df-buttons div {\n",
              "      margin-bottom: 4px;\n",
              "    }\n",
              "\n",
              "    [theme=dark] .colab-df-convert {\n",
              "      background-color: #3B4455;\n",
              "      fill: #D2E3FC;\n",
              "    }\n",
              "\n",
              "    [theme=dark] .colab-df-convert:hover {\n",
              "      background-color: #434B5C;\n",
              "      box-shadow: 0px 1px 3px 1px rgba(0, 0, 0, 0.15);\n",
              "      filter: drop-shadow(0px 1px 2px rgba(0, 0, 0, 0.3));\n",
              "      fill: #FFFFFF;\n",
              "    }\n",
              "  </style>\n",
              "\n",
              "    <script>\n",
              "      const buttonEl =\n",
              "        document.querySelector('#df-1b0e7209-25de-444c-8077-bd872eb869f6 button.colab-df-convert');\n",
              "      buttonEl.style.display =\n",
              "        google.colab.kernel.accessAllowed ? 'block' : 'none';\n",
              "\n",
              "      async function convertToInteractive(key) {\n",
              "        const element = document.querySelector('#df-1b0e7209-25de-444c-8077-bd872eb869f6');\n",
              "        const dataTable =\n",
              "          await google.colab.kernel.invokeFunction('convertToInteractive',\n",
              "                                                    [key], {});\n",
              "        if (!dataTable) return;\n",
              "\n",
              "        const docLinkHtml = 'Like what you see? Visit the ' +\n",
              "          '<a target=\"_blank\" href=https://colab.research.google.com/notebooks/data_table.ipynb>data table notebook</a>'\n",
              "          + ' to learn more about interactive tables.';\n",
              "        element.innerHTML = '';\n",
              "        dataTable['output_type'] = 'display_data';\n",
              "        await google.colab.output.renderOutput(dataTable, element);\n",
              "        const docLink = document.createElement('div');\n",
              "        docLink.innerHTML = docLinkHtml;\n",
              "        element.appendChild(docLink);\n",
              "      }\n",
              "    </script>\n",
              "  </div>\n",
              "\n",
              "\n",
              "<div id=\"df-8a86bf1b-4813-4954-b2fb-81b51222d5f6\">\n",
              "  <button class=\"colab-df-quickchart\" onclick=\"quickchart('df-8a86bf1b-4813-4954-b2fb-81b51222d5f6')\"\n",
              "            title=\"Suggest charts\"\n",
              "            style=\"display:none;\">\n",
              "\n",
              "<svg xmlns=\"http://www.w3.org/2000/svg\" height=\"24px\"viewBox=\"0 0 24 24\"\n",
              "     width=\"24px\">\n",
              "    <g>\n",
              "        <path d=\"M19 3H5c-1.1 0-2 .9-2 2v14c0 1.1.9 2 2 2h14c1.1 0 2-.9 2-2V5c0-1.1-.9-2-2-2zM9 17H7v-7h2v7zm4 0h-2V7h2v10zm4 0h-2v-4h2v4z\"/>\n",
              "    </g>\n",
              "</svg>\n",
              "  </button>\n",
              "\n",
              "<style>\n",
              "  .colab-df-quickchart {\n",
              "      --bg-color: #E8F0FE;\n",
              "      --fill-color: #1967D2;\n",
              "      --hover-bg-color: #E2EBFA;\n",
              "      --hover-fill-color: #174EA6;\n",
              "      --disabled-fill-color: #AAA;\n",
              "      --disabled-bg-color: #DDD;\n",
              "  }\n",
              "\n",
              "  [theme=dark] .colab-df-quickchart {\n",
              "      --bg-color: #3B4455;\n",
              "      --fill-color: #D2E3FC;\n",
              "      --hover-bg-color: #434B5C;\n",
              "      --hover-fill-color: #FFFFFF;\n",
              "      --disabled-bg-color: #3B4455;\n",
              "      --disabled-fill-color: #666;\n",
              "  }\n",
              "\n",
              "  .colab-df-quickchart {\n",
              "    background-color: var(--bg-color);\n",
              "    border: none;\n",
              "    border-radius: 50%;\n",
              "    cursor: pointer;\n",
              "    display: none;\n",
              "    fill: var(--fill-color);\n",
              "    height: 32px;\n",
              "    padding: 0;\n",
              "    width: 32px;\n",
              "  }\n",
              "\n",
              "  .colab-df-quickchart:hover {\n",
              "    background-color: var(--hover-bg-color);\n",
              "    box-shadow: 0 1px 2px rgba(60, 64, 67, 0.3), 0 1px 3px 1px rgba(60, 64, 67, 0.15);\n",
              "    fill: var(--button-hover-fill-color);\n",
              "  }\n",
              "\n",
              "  .colab-df-quickchart-complete:disabled,\n",
              "  .colab-df-quickchart-complete:disabled:hover {\n",
              "    background-color: var(--disabled-bg-color);\n",
              "    fill: var(--disabled-fill-color);\n",
              "    box-shadow: none;\n",
              "  }\n",
              "\n",
              "  .colab-df-spinner {\n",
              "    border: 2px solid var(--fill-color);\n",
              "    border-color: transparent;\n",
              "    border-bottom-color: var(--fill-color);\n",
              "    animation:\n",
              "      spin 1s steps(1) infinite;\n",
              "  }\n",
              "\n",
              "  @keyframes spin {\n",
              "    0% {\n",
              "      border-color: transparent;\n",
              "      border-bottom-color: var(--fill-color);\n",
              "      border-left-color: var(--fill-color);\n",
              "    }\n",
              "    20% {\n",
              "      border-color: transparent;\n",
              "      border-left-color: var(--fill-color);\n",
              "      border-top-color: var(--fill-color);\n",
              "    }\n",
              "    30% {\n",
              "      border-color: transparent;\n",
              "      border-left-color: var(--fill-color);\n",
              "      border-top-color: var(--fill-color);\n",
              "      border-right-color: var(--fill-color);\n",
              "    }\n",
              "    40% {\n",
              "      border-color: transparent;\n",
              "      border-right-color: var(--fill-color);\n",
              "      border-top-color: var(--fill-color);\n",
              "    }\n",
              "    60% {\n",
              "      border-color: transparent;\n",
              "      border-right-color: var(--fill-color);\n",
              "    }\n",
              "    80% {\n",
              "      border-color: transparent;\n",
              "      border-right-color: var(--fill-color);\n",
              "      border-bottom-color: var(--fill-color);\n",
              "    }\n",
              "    90% {\n",
              "      border-color: transparent;\n",
              "      border-bottom-color: var(--fill-color);\n",
              "    }\n",
              "  }\n",
              "</style>\n",
              "\n",
              "  <script>\n",
              "    async function quickchart(key) {\n",
              "      const quickchartButtonEl =\n",
              "        document.querySelector('#' + key + ' button');\n",
              "      quickchartButtonEl.disabled = true;  // To prevent multiple clicks.\n",
              "      quickchartButtonEl.classList.add('colab-df-spinner');\n",
              "      try {\n",
              "        const charts = await google.colab.kernel.invokeFunction(\n",
              "            'suggestCharts', [key], {});\n",
              "      } catch (error) {\n",
              "        console.error('Error during call to suggestCharts:', error);\n",
              "      }\n",
              "      quickchartButtonEl.classList.remove('colab-df-spinner');\n",
              "      quickchartButtonEl.classList.add('colab-df-quickchart-complete');\n",
              "    }\n",
              "    (() => {\n",
              "      let quickchartButtonEl =\n",
              "        document.querySelector('#df-8a86bf1b-4813-4954-b2fb-81b51222d5f6 button');\n",
              "      quickchartButtonEl.style.display =\n",
              "        google.colab.kernel.accessAllowed ? 'block' : 'none';\n",
              "    })();\n",
              "  </script>\n",
              "</div>\n",
              "\n",
              "    </div>\n",
              "  </div>\n"
            ],
            "application/vnd.google.colaboratory.intrinsic+json": {
              "type": "dataframe",
              "variable_name": "df"
            }
          },
          "metadata": {},
          "execution_count": 4
        }
      ]
    },
    {
      "cell_type": "markdown",
      "source": [
        "## **Data Cleaning**"
      ],
      "metadata": {
        "id": "Vsdt-sIC_oL6"
      }
    },
    {
      "cell_type": "code",
      "source": [
        "# Check the shape of dataset.\n",
        "rows, columns = df.shape\n",
        "print(f\"No.of rows :{rows}\\nNo.of columns: {columns}\")"
      ],
      "metadata": {
        "colab": {
          "base_uri": "https://localhost:8080/"
        },
        "id": "8ufCH3xp_ufj",
        "outputId": "33fd8d12-2bee-430c-b4a3-527a919fb7dc"
      },
      "execution_count": null,
      "outputs": [
        {
          "output_type": "stream",
          "name": "stdout",
          "text": [
            "No.of rows :1200000\n",
            "No.of columns: 20\n"
          ]
        }
      ]
    },
    {
      "cell_type": "markdown",
      "source": [
        "### **Creating New Columns**"
      ],
      "metadata": {
        "id": "NETAtdQ00ImZ"
      }
    },
    {
      "cell_type": "code",
      "source": [
        "def age_to_group(age):\n",
        "    if age <= 30:\n",
        "        return '18-30'\n",
        "    elif age <= 50:\n",
        "        return '31-50'\n",
        "    else:\n",
        "        return '51+'\n",
        "\n",
        "\n",
        "# Apply function to create Age Group\n",
        "df['Age Group'] = df['Age'].apply(age_to_group)\n",
        "\n",
        "print(df['Age Group'].value_counts())\n"
      ],
      "metadata": {
        "colab": {
          "base_uri": "https://localhost:8080/"
        },
        "id": "CvfN2v_Fdag3",
        "outputId": "9fd2fc06-58be-4b99-84b3-a2749a7a78b7"
      },
      "execution_count": null,
      "outputs": [
        {
          "output_type": "stream",
          "name": "stdout",
          "text": [
            "Age Group\n",
            "31-50    506170\n",
            "51+      374386\n",
            "18-30    319444\n",
            "Name: count, dtype: int64\n"
          ]
        }
      ]
    },
    {
      "cell_type": "code",
      "source": [
        "# Define Health Score categories based on distribution\n",
        "def categorize_health_score(score):\n",
        "    if score <= 20:\n",
        "        return \"Low\"\n",
        "    elif 21 <= score <= 40:\n",
        "        return \"Medium\"\n",
        "    else:\n",
        "        return \"High\"\n",
        "df[\"Health Score Category\"] = df[\"Health Score\"].apply(categorize_health_score)\n",
        "print(df['Health Score Category'].value_counts())"
      ],
      "metadata": {
        "colab": {
          "base_uri": "https://localhost:8080/"
        },
        "id": "9ZGxzrY6375l",
        "outputId": "208e13de-efe3-403f-faf6-254739e515d7"
      },
      "execution_count": null,
      "outputs": [
        {
          "output_type": "stream",
          "name": "stdout",
          "text": [
            "Health Score Category\n",
            "Medium    568593\n",
            "High      411738\n",
            "Low       219669\n",
            "Name: count, dtype: int64\n"
          ]
        }
      ]
    },
    {
      "cell_type": "code",
      "source": [
        "# Dataset information\n",
        "df.info()"
      ],
      "metadata": {
        "colab": {
          "base_uri": "https://localhost:8080/"
        },
        "id": "qZ2VJay7_0Ut",
        "outputId": "dbf4406a-d328-4e7e-c3cd-ec728fa56da3"
      },
      "execution_count": null,
      "outputs": [
        {
          "output_type": "stream",
          "name": "stdout",
          "text": [
            "<class 'pandas.core.frame.DataFrame'>\n",
            "RangeIndex: 1200000 entries, 0 to 1199999\n",
            "Data columns (total 22 columns):\n",
            " #   Column                 Non-Null Count    Dtype  \n",
            "---  ------                 --------------    -----  \n",
            " 0   id                     1200000 non-null  int64  \n",
            " 1   Age                    1181295 non-null  float64\n",
            " 2   Gender                 1200000 non-null  object \n",
            " 3   Annual Income          1155051 non-null  float64\n",
            " 4   Marital Status         1200000 non-null  object \n",
            " 5   Number of Dependents   1090328 non-null  float64\n",
            " 6   Education Level        1200000 non-null  object \n",
            " 7   Occupation             1200000 non-null  object \n",
            " 8   Health Score           1125924 non-null  float64\n",
            " 9   Location               1200000 non-null  object \n",
            " 10  Policy Type            1200000 non-null  object \n",
            " 11  Previous Claims        835971 non-null   float64\n",
            " 12  Credit Score           1062118 non-null  float64\n",
            " 13  Insurance Duration     1199999 non-null  float64\n",
            " 14  Policy Start Date      1200000 non-null  object \n",
            " 15  Customer Feedback      1122176 non-null  object \n",
            " 16  Smoking Status         1200000 non-null  object \n",
            " 17  Exercise Frequency     1200000 non-null  object \n",
            " 18  Property Type          1200000 non-null  object \n",
            " 19  Premium Amount         784968 non-null   float64\n",
            " 20  Age Group              1200000 non-null  object \n",
            " 21  Health Score Category  1200000 non-null  object \n",
            "dtypes: float64(8), int64(1), object(13)\n",
            "memory usage: 201.4+ MB\n"
          ]
        }
      ]
    },
    {
      "cell_type": "code",
      "source": [
        "# Checking for Duplicate Values.\n",
        "duplicate = df.duplicated().sum()\n",
        "duplicate"
      ],
      "metadata": {
        "colab": {
          "base_uri": "https://localhost:8080/"
        },
        "id": "qBSNZ7v1_5Up",
        "outputId": "2d0c7646-27bd-43f8-d961-d215fc14dd53"
      },
      "execution_count": null,
      "outputs": [
        {
          "output_type": "execute_result",
          "data": {
            "text/plain": [
              "0"
            ]
          },
          "metadata": {},
          "execution_count": 9
        }
      ]
    },
    {
      "cell_type": "code",
      "source": [
        "#Checking Null Values\n",
        "df.isnull().sum()"
      ],
      "metadata": {
        "colab": {
          "base_uri": "https://localhost:8080/",
          "height": 774
        },
        "id": "QN-43Et_AVg5",
        "outputId": "9122251c-3893-4f52-c85a-2eb19f608fed"
      },
      "execution_count": null,
      "outputs": [
        {
          "output_type": "execute_result",
          "data": {
            "text/plain": [
              "id                            0\n",
              "Age                       18705\n",
              "Gender                        0\n",
              "Annual Income             44949\n",
              "Marital Status                0\n",
              "Number of Dependents     109672\n",
              "Education Level               0\n",
              "Occupation                    0\n",
              "Health Score              74076\n",
              "Location                      0\n",
              "Policy Type                   0\n",
              "Previous Claims          364029\n",
              "Credit Score             137882\n",
              "Insurance Duration            1\n",
              "Policy Start Date             0\n",
              "Customer Feedback         77824\n",
              "Smoking Status                0\n",
              "Exercise Frequency            0\n",
              "Property Type                 0\n",
              "Premium Amount           415032\n",
              "Age Group                     0\n",
              "Health Score Category         0\n",
              "dtype: int64"
            ],
            "text/html": [
              "<div>\n",
              "<style scoped>\n",
              "    .dataframe tbody tr th:only-of-type {\n",
              "        vertical-align: middle;\n",
              "    }\n",
              "\n",
              "    .dataframe tbody tr th {\n",
              "        vertical-align: top;\n",
              "    }\n",
              "\n",
              "    .dataframe thead th {\n",
              "        text-align: right;\n",
              "    }\n",
              "</style>\n",
              "<table border=\"1\" class=\"dataframe\">\n",
              "  <thead>\n",
              "    <tr style=\"text-align: right;\">\n",
              "      <th></th>\n",
              "      <th>0</th>\n",
              "    </tr>\n",
              "  </thead>\n",
              "  <tbody>\n",
              "    <tr>\n",
              "      <th>id</th>\n",
              "      <td>0</td>\n",
              "    </tr>\n",
              "    <tr>\n",
              "      <th>Age</th>\n",
              "      <td>18705</td>\n",
              "    </tr>\n",
              "    <tr>\n",
              "      <th>Gender</th>\n",
              "      <td>0</td>\n",
              "    </tr>\n",
              "    <tr>\n",
              "      <th>Annual Income</th>\n",
              "      <td>44949</td>\n",
              "    </tr>\n",
              "    <tr>\n",
              "      <th>Marital Status</th>\n",
              "      <td>0</td>\n",
              "    </tr>\n",
              "    <tr>\n",
              "      <th>Number of Dependents</th>\n",
              "      <td>109672</td>\n",
              "    </tr>\n",
              "    <tr>\n",
              "      <th>Education Level</th>\n",
              "      <td>0</td>\n",
              "    </tr>\n",
              "    <tr>\n",
              "      <th>Occupation</th>\n",
              "      <td>0</td>\n",
              "    </tr>\n",
              "    <tr>\n",
              "      <th>Health Score</th>\n",
              "      <td>74076</td>\n",
              "    </tr>\n",
              "    <tr>\n",
              "      <th>Location</th>\n",
              "      <td>0</td>\n",
              "    </tr>\n",
              "    <tr>\n",
              "      <th>Policy Type</th>\n",
              "      <td>0</td>\n",
              "    </tr>\n",
              "    <tr>\n",
              "      <th>Previous Claims</th>\n",
              "      <td>364029</td>\n",
              "    </tr>\n",
              "    <tr>\n",
              "      <th>Credit Score</th>\n",
              "      <td>137882</td>\n",
              "    </tr>\n",
              "    <tr>\n",
              "      <th>Insurance Duration</th>\n",
              "      <td>1</td>\n",
              "    </tr>\n",
              "    <tr>\n",
              "      <th>Policy Start Date</th>\n",
              "      <td>0</td>\n",
              "    </tr>\n",
              "    <tr>\n",
              "      <th>Customer Feedback</th>\n",
              "      <td>77824</td>\n",
              "    </tr>\n",
              "    <tr>\n",
              "      <th>Smoking Status</th>\n",
              "      <td>0</td>\n",
              "    </tr>\n",
              "    <tr>\n",
              "      <th>Exercise Frequency</th>\n",
              "      <td>0</td>\n",
              "    </tr>\n",
              "    <tr>\n",
              "      <th>Property Type</th>\n",
              "      <td>0</td>\n",
              "    </tr>\n",
              "    <tr>\n",
              "      <th>Premium Amount</th>\n",
              "      <td>415032</td>\n",
              "    </tr>\n",
              "    <tr>\n",
              "      <th>Age Group</th>\n",
              "      <td>0</td>\n",
              "    </tr>\n",
              "    <tr>\n",
              "      <th>Health Score Category</th>\n",
              "      <td>0</td>\n",
              "    </tr>\n",
              "  </tbody>\n",
              "</table>\n",
              "</div><br><label><b>dtype:</b> int64</label>"
            ]
          },
          "metadata": {},
          "execution_count": 10
        }
      ]
    },
    {
      "cell_type": "markdown",
      "source": [
        "**Age, Annual Income, Number of Dependents, Health Score, Previous Claims, Credit Score, Insurance Duration, Customer Feedback, Premium Amount contain null values.**"
      ],
      "metadata": {
        "id": "6Mx_HkLbBEsA"
      }
    },
    {
      "cell_type": "markdown",
      "source": [
        "### **Data Types**"
      ],
      "metadata": {
        "id": "3UY8_DmfY433"
      }
    },
    {
      "cell_type": "code",
      "source": [
        "  df.dtypes"
      ],
      "metadata": {
        "colab": {
          "base_uri": "https://localhost:8080/",
          "height": 774
        },
        "id": "YAViaALIY5-i",
        "outputId": "0f148b2d-1e20-4579-e070-a18636b9d900"
      },
      "execution_count": null,
      "outputs": [
        {
          "output_type": "execute_result",
          "data": {
            "text/plain": [
              "id                         int64\n",
              "Age                      float64\n",
              "Gender                    object\n",
              "Annual Income            float64\n",
              "Marital Status            object\n",
              "Number of Dependents     float64\n",
              "Education Level           object\n",
              "Occupation                object\n",
              "Health Score             float64\n",
              "Location                  object\n",
              "Policy Type               object\n",
              "Previous Claims          float64\n",
              "Credit Score             float64\n",
              "Insurance Duration       float64\n",
              "Policy Start Date         object\n",
              "Customer Feedback         object\n",
              "Smoking Status            object\n",
              "Exercise Frequency        object\n",
              "Property Type             object\n",
              "Premium Amount           float64\n",
              "Age Group                 object\n",
              "Health Score Category     object\n",
              "dtype: object"
            ],
            "text/html": [
              "<div>\n",
              "<style scoped>\n",
              "    .dataframe tbody tr th:only-of-type {\n",
              "        vertical-align: middle;\n",
              "    }\n",
              "\n",
              "    .dataframe tbody tr th {\n",
              "        vertical-align: top;\n",
              "    }\n",
              "\n",
              "    .dataframe thead th {\n",
              "        text-align: right;\n",
              "    }\n",
              "</style>\n",
              "<table border=\"1\" class=\"dataframe\">\n",
              "  <thead>\n",
              "    <tr style=\"text-align: right;\">\n",
              "      <th></th>\n",
              "      <th>0</th>\n",
              "    </tr>\n",
              "  </thead>\n",
              "  <tbody>\n",
              "    <tr>\n",
              "      <th>id</th>\n",
              "      <td>int64</td>\n",
              "    </tr>\n",
              "    <tr>\n",
              "      <th>Age</th>\n",
              "      <td>float64</td>\n",
              "    </tr>\n",
              "    <tr>\n",
              "      <th>Gender</th>\n",
              "      <td>object</td>\n",
              "    </tr>\n",
              "    <tr>\n",
              "      <th>Annual Income</th>\n",
              "      <td>float64</td>\n",
              "    </tr>\n",
              "    <tr>\n",
              "      <th>Marital Status</th>\n",
              "      <td>object</td>\n",
              "    </tr>\n",
              "    <tr>\n",
              "      <th>Number of Dependents</th>\n",
              "      <td>float64</td>\n",
              "    </tr>\n",
              "    <tr>\n",
              "      <th>Education Level</th>\n",
              "      <td>object</td>\n",
              "    </tr>\n",
              "    <tr>\n",
              "      <th>Occupation</th>\n",
              "      <td>object</td>\n",
              "    </tr>\n",
              "    <tr>\n",
              "      <th>Health Score</th>\n",
              "      <td>float64</td>\n",
              "    </tr>\n",
              "    <tr>\n",
              "      <th>Location</th>\n",
              "      <td>object</td>\n",
              "    </tr>\n",
              "    <tr>\n",
              "      <th>Policy Type</th>\n",
              "      <td>object</td>\n",
              "    </tr>\n",
              "    <tr>\n",
              "      <th>Previous Claims</th>\n",
              "      <td>float64</td>\n",
              "    </tr>\n",
              "    <tr>\n",
              "      <th>Credit Score</th>\n",
              "      <td>float64</td>\n",
              "    </tr>\n",
              "    <tr>\n",
              "      <th>Insurance Duration</th>\n",
              "      <td>float64</td>\n",
              "    </tr>\n",
              "    <tr>\n",
              "      <th>Policy Start Date</th>\n",
              "      <td>object</td>\n",
              "    </tr>\n",
              "    <tr>\n",
              "      <th>Customer Feedback</th>\n",
              "      <td>object</td>\n",
              "    </tr>\n",
              "    <tr>\n",
              "      <th>Smoking Status</th>\n",
              "      <td>object</td>\n",
              "    </tr>\n",
              "    <tr>\n",
              "      <th>Exercise Frequency</th>\n",
              "      <td>object</td>\n",
              "    </tr>\n",
              "    <tr>\n",
              "      <th>Property Type</th>\n",
              "      <td>object</td>\n",
              "    </tr>\n",
              "    <tr>\n",
              "      <th>Premium Amount</th>\n",
              "      <td>float64</td>\n",
              "    </tr>\n",
              "    <tr>\n",
              "      <th>Age Group</th>\n",
              "      <td>object</td>\n",
              "    </tr>\n",
              "    <tr>\n",
              "      <th>Health Score Category</th>\n",
              "      <td>object</td>\n",
              "    </tr>\n",
              "  </tbody>\n",
              "</table>\n",
              "</div><br><label><b>dtype:</b> object</label>"
            ]
          },
          "metadata": {},
          "execution_count": 11
        }
      ]
    },
    {
      "cell_type": "code",
      "source": [
        "#Convert the data type of the columns\n",
        "# Convert 'Policy Start Date' to datetime (handling errors)\n",
        "df['Policy Start Date'] = pd.to_datetime(df['Policy Start Date'], errors='coerce')"
      ],
      "metadata": {
        "id": "Ci1ckIIqY8M0"
      },
      "execution_count": null,
      "outputs": []
    },
    {
      "cell_type": "code",
      "source": [
        "# Convert Number of Dependents to integer (nullable Int64 to handle NaN)\n",
        "df['Number of Dependents'] = df['Number of Dependents'].astype('Int64')"
      ],
      "metadata": {
        "id": "ayO0w1OaZE_N"
      },
      "execution_count": null,
      "outputs": []
    },
    {
      "cell_type": "code",
      "source": [
        "#Convert age datatype into int\n",
        "if df['Age'].dropna().apply(float.is_integer).all():\n",
        "    df['Age'] = df['Age'].astype('Int64')"
      ],
      "metadata": {
        "id": "i4lqng2WZHQ8"
      },
      "execution_count": null,
      "outputs": []
    },
    {
      "cell_type": "code",
      "source": [
        "pd.options.display.float_format = '{:.2f}'.format"
      ],
      "metadata": {
        "id": "Iv8pQ0rQZJQ4"
      },
      "execution_count": null,
      "outputs": []
    },
    {
      "cell_type": "code",
      "source": [
        "df.info()"
      ],
      "metadata": {
        "colab": {
          "base_uri": "https://localhost:8080/"
        },
        "id": "bxgewm4KZNU_",
        "outputId": "e53c248e-617e-4343-9082-2a70435af596"
      },
      "execution_count": null,
      "outputs": [
        {
          "output_type": "stream",
          "name": "stdout",
          "text": [
            "<class 'pandas.core.frame.DataFrame'>\n",
            "RangeIndex: 1200000 entries, 0 to 1199999\n",
            "Data columns (total 22 columns):\n",
            " #   Column                 Non-Null Count    Dtype         \n",
            "---  ------                 --------------    -----         \n",
            " 0   id                     1200000 non-null  int64         \n",
            " 1   Age                    1181295 non-null  Int64         \n",
            " 2   Gender                 1200000 non-null  object        \n",
            " 3   Annual Income          1155051 non-null  float64       \n",
            " 4   Marital Status         1200000 non-null  object        \n",
            " 5   Number of Dependents   1090328 non-null  Int64         \n",
            " 6   Education Level        1200000 non-null  object        \n",
            " 7   Occupation             1200000 non-null  object        \n",
            " 8   Health Score           1125924 non-null  float64       \n",
            " 9   Location               1200000 non-null  object        \n",
            " 10  Policy Type            1200000 non-null  object        \n",
            " 11  Previous Claims        835971 non-null   float64       \n",
            " 12  Credit Score           1062118 non-null  float64       \n",
            " 13  Insurance Duration     1199999 non-null  float64       \n",
            " 14  Policy Start Date      1200000 non-null  datetime64[ns]\n",
            " 15  Customer Feedback      1122176 non-null  object        \n",
            " 16  Smoking Status         1200000 non-null  object        \n",
            " 17  Exercise Frequency     1200000 non-null  object        \n",
            " 18  Property Type          1200000 non-null  object        \n",
            " 19  Premium Amount         784968 non-null   float64       \n",
            " 20  Age Group              1200000 non-null  object        \n",
            " 21  Health Score Category  1200000 non-null  object        \n",
            "dtypes: Int64(2), datetime64[ns](1), float64(6), int64(1), object(12)\n",
            "memory usage: 203.7+ MB\n"
          ]
        }
      ]
    },
    {
      "cell_type": "code",
      "source": [
        "df.head(10)"
      ],
      "metadata": {
        "colab": {
          "base_uri": "https://localhost:8080/",
          "height": 583
        },
        "id": "DdNN7koXZK7H",
        "outputId": "e48dd264-2c7f-427f-a767-73517ff217fd"
      },
      "execution_count": null,
      "outputs": [
        {
          "output_type": "execute_result",
          "data": {
            "text/plain": [
              "   id  Age Gender  Annual Income    Marital Status  Number of Dependents  \\\n",
              "0   0   19  Woman      864214.00    Spouse Present                     1   \n",
              "1   1   39  Woman      892701.25    Spouse Present                     3   \n",
              "2   2   23    Man     2201772.00  Formerly Married                     3   \n",
              "3   3   21    Man     3997541.99    Spouse Present                     2   \n",
              "4   4   21    Man     3409986.00       Not Married                     1   \n",
              "5   5   29    Man     1295259.40    Spouse Present                     1   \n",
              "6   6   41    Man     1136687.84    Spouse Present                     0   \n",
              "7   7   48  Woman     8942382.00    Spouse Present                     2   \n",
              "8   8   21    Man      149038.00  Formerly Married                     3   \n",
              "9   9   44    Man     2510442.00    Spouse Present                     2   \n",
              "\n",
              "       Education Level        Occupation  Health Score Location  ...  \\\n",
              "0        Undergraduate          Business         26.60   Tier-1  ...   \n",
              "1        Post Graduate           Missing         21.57   Tier-2  ...   \n",
              "2        Undergraduate          Business         50.18   Tier-3  ...   \n",
              "3        Undergraduate           Missing         16.94   Tier-2  ...   \n",
              "4        Undergraduate          Business         24.38   Tier-2  ...   \n",
              "5        Post Graduate           Missing         36.05   Tier-1  ...   \n",
              "6        Undergraduate           Missing           NaN   Tier-2  ...   \n",
              "7  Secondary Education  Full-Time Worker         13.77   Tier-3  ...   \n",
              "8        Undergraduate           Missing         24.87   Tier-1  ...   \n",
              "9        Undergraduate  Full-Time Worker         22.47   Tier-1  ...   \n",
              "\n",
              "  Credit Score  Insurance Duration          Policy Start Date  \\\n",
              "0       372.00                5.00 2023-12-23 15:21:39.134960   \n",
              "1       694.00                2.00 2023-06-12 15:21:39.111551   \n",
              "2          NaN                3.00 2023-09-30 15:21:39.221386   \n",
              "3       367.00                1.00 2024-06-12 15:21:39.226954   \n",
              "4       598.00                4.00 2021-12-01 15:21:39.252145   \n",
              "5       614.00                5.00 2022-05-20 15:21:39.207847   \n",
              "6       807.00                6.00 2020-02-21 15:21:39.219432   \n",
              "7       398.00                5.00 2022-08-08 15:21:39.181605   \n",
              "8       685.00                8.00 2020-12-14 15:21:39.198406   \n",
              "9       635.00                3.00 2020-08-02 15:21:39.144722   \n",
              "\n",
              "   Customer Feedback Smoking Status Exercise Frequency  Property Type  \\\n",
              "0               Poor             No             Weekly  Detached Home   \n",
              "1            Average            Yes            Monthly  Detached Home   \n",
              "2               Good            Yes             Weekly  Detached Home   \n",
              "3               Poor            Yes              Daily           Flat   \n",
              "4               Poor            Yes             Weekly  Detached Home   \n",
              "5            Average             No             Weekly  Detached Home   \n",
              "6               Poor             No             Weekly  Detached Home   \n",
              "7            Average             No             Rarely      Apartment   \n",
              "8            Average             No            Monthly      Apartment   \n",
              "9               Poor             No              Daily      Apartment   \n",
              "\n",
              "  Premium Amount Age Group  Health Score Category  \n",
              "0        1945.91     18-30                 Medium  \n",
              "1       10908.90     31-50                 Medium  \n",
              "2       21563.14     18-30                   High  \n",
              "3        2653.54     18-30                    Low  \n",
              "4        1269.24     18-30                 Medium  \n",
              "5        1252.69     18-30                 Medium  \n",
              "6            NaN     31-50                   High  \n",
              "7       21833.80     31-50                    Low  \n",
              "8       10997.95     18-30                 Medium  \n",
              "9       10580.68     31-50                 Medium  \n",
              "\n",
              "[10 rows x 22 columns]"
            ],
            "text/html": [
              "\n",
              "  <div id=\"df-6c514723-a81c-498f-b2c6-25f02c68b0ee\" class=\"colab-df-container\">\n",
              "    <div>\n",
              "<style scoped>\n",
              "    .dataframe tbody tr th:only-of-type {\n",
              "        vertical-align: middle;\n",
              "    }\n",
              "\n",
              "    .dataframe tbody tr th {\n",
              "        vertical-align: top;\n",
              "    }\n",
              "\n",
              "    .dataframe thead th {\n",
              "        text-align: right;\n",
              "    }\n",
              "</style>\n",
              "<table border=\"1\" class=\"dataframe\">\n",
              "  <thead>\n",
              "    <tr style=\"text-align: right;\">\n",
              "      <th></th>\n",
              "      <th>id</th>\n",
              "      <th>Age</th>\n",
              "      <th>Gender</th>\n",
              "      <th>Annual Income</th>\n",
              "      <th>Marital Status</th>\n",
              "      <th>Number of Dependents</th>\n",
              "      <th>Education Level</th>\n",
              "      <th>Occupation</th>\n",
              "      <th>Health Score</th>\n",
              "      <th>Location</th>\n",
              "      <th>...</th>\n",
              "      <th>Credit Score</th>\n",
              "      <th>Insurance Duration</th>\n",
              "      <th>Policy Start Date</th>\n",
              "      <th>Customer Feedback</th>\n",
              "      <th>Smoking Status</th>\n",
              "      <th>Exercise Frequency</th>\n",
              "      <th>Property Type</th>\n",
              "      <th>Premium Amount</th>\n",
              "      <th>Age Group</th>\n",
              "      <th>Health Score Category</th>\n",
              "    </tr>\n",
              "  </thead>\n",
              "  <tbody>\n",
              "    <tr>\n",
              "      <th>0</th>\n",
              "      <td>0</td>\n",
              "      <td>19</td>\n",
              "      <td>Woman</td>\n",
              "      <td>864214.00</td>\n",
              "      <td>Spouse Present</td>\n",
              "      <td>1</td>\n",
              "      <td>Undergraduate</td>\n",
              "      <td>Business</td>\n",
              "      <td>26.60</td>\n",
              "      <td>Tier-1</td>\n",
              "      <td>...</td>\n",
              "      <td>372.00</td>\n",
              "      <td>5.00</td>\n",
              "      <td>2023-12-23 15:21:39.134960</td>\n",
              "      <td>Poor</td>\n",
              "      <td>No</td>\n",
              "      <td>Weekly</td>\n",
              "      <td>Detached Home</td>\n",
              "      <td>1945.91</td>\n",
              "      <td>18-30</td>\n",
              "      <td>Medium</td>\n",
              "    </tr>\n",
              "    <tr>\n",
              "      <th>1</th>\n",
              "      <td>1</td>\n",
              "      <td>39</td>\n",
              "      <td>Woman</td>\n",
              "      <td>892701.25</td>\n",
              "      <td>Spouse Present</td>\n",
              "      <td>3</td>\n",
              "      <td>Post Graduate</td>\n",
              "      <td>Missing</td>\n",
              "      <td>21.57</td>\n",
              "      <td>Tier-2</td>\n",
              "      <td>...</td>\n",
              "      <td>694.00</td>\n",
              "      <td>2.00</td>\n",
              "      <td>2023-06-12 15:21:39.111551</td>\n",
              "      <td>Average</td>\n",
              "      <td>Yes</td>\n",
              "      <td>Monthly</td>\n",
              "      <td>Detached Home</td>\n",
              "      <td>10908.90</td>\n",
              "      <td>31-50</td>\n",
              "      <td>Medium</td>\n",
              "    </tr>\n",
              "    <tr>\n",
              "      <th>2</th>\n",
              "      <td>2</td>\n",
              "      <td>23</td>\n",
              "      <td>Man</td>\n",
              "      <td>2201772.00</td>\n",
              "      <td>Formerly Married</td>\n",
              "      <td>3</td>\n",
              "      <td>Undergraduate</td>\n",
              "      <td>Business</td>\n",
              "      <td>50.18</td>\n",
              "      <td>Tier-3</td>\n",
              "      <td>...</td>\n",
              "      <td>NaN</td>\n",
              "      <td>3.00</td>\n",
              "      <td>2023-09-30 15:21:39.221386</td>\n",
              "      <td>Good</td>\n",
              "      <td>Yes</td>\n",
              "      <td>Weekly</td>\n",
              "      <td>Detached Home</td>\n",
              "      <td>21563.14</td>\n",
              "      <td>18-30</td>\n",
              "      <td>High</td>\n",
              "    </tr>\n",
              "    <tr>\n",
              "      <th>3</th>\n",
              "      <td>3</td>\n",
              "      <td>21</td>\n",
              "      <td>Man</td>\n",
              "      <td>3997541.99</td>\n",
              "      <td>Spouse Present</td>\n",
              "      <td>2</td>\n",
              "      <td>Undergraduate</td>\n",
              "      <td>Missing</td>\n",
              "      <td>16.94</td>\n",
              "      <td>Tier-2</td>\n",
              "      <td>...</td>\n",
              "      <td>367.00</td>\n",
              "      <td>1.00</td>\n",
              "      <td>2024-06-12 15:21:39.226954</td>\n",
              "      <td>Poor</td>\n",
              "      <td>Yes</td>\n",
              "      <td>Daily</td>\n",
              "      <td>Flat</td>\n",
              "      <td>2653.54</td>\n",
              "      <td>18-30</td>\n",
              "      <td>Low</td>\n",
              "    </tr>\n",
              "    <tr>\n",
              "      <th>4</th>\n",
              "      <td>4</td>\n",
              "      <td>21</td>\n",
              "      <td>Man</td>\n",
              "      <td>3409986.00</td>\n",
              "      <td>Not Married</td>\n",
              "      <td>1</td>\n",
              "      <td>Undergraduate</td>\n",
              "      <td>Business</td>\n",
              "      <td>24.38</td>\n",
              "      <td>Tier-2</td>\n",
              "      <td>...</td>\n",
              "      <td>598.00</td>\n",
              "      <td>4.00</td>\n",
              "      <td>2021-12-01 15:21:39.252145</td>\n",
              "      <td>Poor</td>\n",
              "      <td>Yes</td>\n",
              "      <td>Weekly</td>\n",
              "      <td>Detached Home</td>\n",
              "      <td>1269.24</td>\n",
              "      <td>18-30</td>\n",
              "      <td>Medium</td>\n",
              "    </tr>\n",
              "    <tr>\n",
              "      <th>5</th>\n",
              "      <td>5</td>\n",
              "      <td>29</td>\n",
              "      <td>Man</td>\n",
              "      <td>1295259.40</td>\n",
              "      <td>Spouse Present</td>\n",
              "      <td>1</td>\n",
              "      <td>Post Graduate</td>\n",
              "      <td>Missing</td>\n",
              "      <td>36.05</td>\n",
              "      <td>Tier-1</td>\n",
              "      <td>...</td>\n",
              "      <td>614.00</td>\n",
              "      <td>5.00</td>\n",
              "      <td>2022-05-20 15:21:39.207847</td>\n",
              "      <td>Average</td>\n",
              "      <td>No</td>\n",
              "      <td>Weekly</td>\n",
              "      <td>Detached Home</td>\n",
              "      <td>1252.69</td>\n",
              "      <td>18-30</td>\n",
              "      <td>Medium</td>\n",
              "    </tr>\n",
              "    <tr>\n",
              "      <th>6</th>\n",
              "      <td>6</td>\n",
              "      <td>41</td>\n",
              "      <td>Man</td>\n",
              "      <td>1136687.84</td>\n",
              "      <td>Spouse Present</td>\n",
              "      <td>0</td>\n",
              "      <td>Undergraduate</td>\n",
              "      <td>Missing</td>\n",
              "      <td>NaN</td>\n",
              "      <td>Tier-2</td>\n",
              "      <td>...</td>\n",
              "      <td>807.00</td>\n",
              "      <td>6.00</td>\n",
              "      <td>2020-02-21 15:21:39.219432</td>\n",
              "      <td>Poor</td>\n",
              "      <td>No</td>\n",
              "      <td>Weekly</td>\n",
              "      <td>Detached Home</td>\n",
              "      <td>NaN</td>\n",
              "      <td>31-50</td>\n",
              "      <td>High</td>\n",
              "    </tr>\n",
              "    <tr>\n",
              "      <th>7</th>\n",
              "      <td>7</td>\n",
              "      <td>48</td>\n",
              "      <td>Woman</td>\n",
              "      <td>8942382.00</td>\n",
              "      <td>Spouse Present</td>\n",
              "      <td>2</td>\n",
              "      <td>Secondary Education</td>\n",
              "      <td>Full-Time Worker</td>\n",
              "      <td>13.77</td>\n",
              "      <td>Tier-3</td>\n",
              "      <td>...</td>\n",
              "      <td>398.00</td>\n",
              "      <td>5.00</td>\n",
              "      <td>2022-08-08 15:21:39.181605</td>\n",
              "      <td>Average</td>\n",
              "      <td>No</td>\n",
              "      <td>Rarely</td>\n",
              "      <td>Apartment</td>\n",
              "      <td>21833.80</td>\n",
              "      <td>31-50</td>\n",
              "      <td>Low</td>\n",
              "    </tr>\n",
              "    <tr>\n",
              "      <th>8</th>\n",
              "      <td>8</td>\n",
              "      <td>21</td>\n",
              "      <td>Man</td>\n",
              "      <td>149038.00</td>\n",
              "      <td>Formerly Married</td>\n",
              "      <td>3</td>\n",
              "      <td>Undergraduate</td>\n",
              "      <td>Missing</td>\n",
              "      <td>24.87</td>\n",
              "      <td>Tier-1</td>\n",
              "      <td>...</td>\n",
              "      <td>685.00</td>\n",
              "      <td>8.00</td>\n",
              "      <td>2020-12-14 15:21:39.198406</td>\n",
              "      <td>Average</td>\n",
              "      <td>No</td>\n",
              "      <td>Monthly</td>\n",
              "      <td>Apartment</td>\n",
              "      <td>10997.95</td>\n",
              "      <td>18-30</td>\n",
              "      <td>Medium</td>\n",
              "    </tr>\n",
              "    <tr>\n",
              "      <th>9</th>\n",
              "      <td>9</td>\n",
              "      <td>44</td>\n",
              "      <td>Man</td>\n",
              "      <td>2510442.00</td>\n",
              "      <td>Spouse Present</td>\n",
              "      <td>2</td>\n",
              "      <td>Undergraduate</td>\n",
              "      <td>Full-Time Worker</td>\n",
              "      <td>22.47</td>\n",
              "      <td>Tier-1</td>\n",
              "      <td>...</td>\n",
              "      <td>635.00</td>\n",
              "      <td>3.00</td>\n",
              "      <td>2020-08-02 15:21:39.144722</td>\n",
              "      <td>Poor</td>\n",
              "      <td>No</td>\n",
              "      <td>Daily</td>\n",
              "      <td>Apartment</td>\n",
              "      <td>10580.68</td>\n",
              "      <td>31-50</td>\n",
              "      <td>Medium</td>\n",
              "    </tr>\n",
              "  </tbody>\n",
              "</table>\n",
              "<p>10 rows × 22 columns</p>\n",
              "</div>\n",
              "    <div class=\"colab-df-buttons\">\n",
              "\n",
              "  <div class=\"colab-df-container\">\n",
              "    <button class=\"colab-df-convert\" onclick=\"convertToInteractive('df-6c514723-a81c-498f-b2c6-25f02c68b0ee')\"\n",
              "            title=\"Convert this dataframe to an interactive table.\"\n",
              "            style=\"display:none;\">\n",
              "\n",
              "  <svg xmlns=\"http://www.w3.org/2000/svg\" height=\"24px\" viewBox=\"0 -960 960 960\">\n",
              "    <path d=\"M120-120v-720h720v720H120Zm60-500h600v-160H180v160Zm220 220h160v-160H400v160Zm0 220h160v-160H400v160ZM180-400h160v-160H180v160Zm440 0h160v-160H620v160ZM180-180h160v-160H180v160Zm440 0h160v-160H620v160Z\"/>\n",
              "  </svg>\n",
              "    </button>\n",
              "\n",
              "  <style>\n",
              "    .colab-df-container {\n",
              "      display:flex;\n",
              "      gap: 12px;\n",
              "    }\n",
              "\n",
              "    .colab-df-convert {\n",
              "      background-color: #E8F0FE;\n",
              "      border: none;\n",
              "      border-radius: 50%;\n",
              "      cursor: pointer;\n",
              "      display: none;\n",
              "      fill: #1967D2;\n",
              "      height: 32px;\n",
              "      padding: 0 0 0 0;\n",
              "      width: 32px;\n",
              "    }\n",
              "\n",
              "    .colab-df-convert:hover {\n",
              "      background-color: #E2EBFA;\n",
              "      box-shadow: 0px 1px 2px rgba(60, 64, 67, 0.3), 0px 1px 3px 1px rgba(60, 64, 67, 0.15);\n",
              "      fill: #174EA6;\n",
              "    }\n",
              "\n",
              "    .colab-df-buttons div {\n",
              "      margin-bottom: 4px;\n",
              "    }\n",
              "\n",
              "    [theme=dark] .colab-df-convert {\n",
              "      background-color: #3B4455;\n",
              "      fill: #D2E3FC;\n",
              "    }\n",
              "\n",
              "    [theme=dark] .colab-df-convert:hover {\n",
              "      background-color: #434B5C;\n",
              "      box-shadow: 0px 1px 3px 1px rgba(0, 0, 0, 0.15);\n",
              "      filter: drop-shadow(0px 1px 2px rgba(0, 0, 0, 0.3));\n",
              "      fill: #FFFFFF;\n",
              "    }\n",
              "  </style>\n",
              "\n",
              "    <script>\n",
              "      const buttonEl =\n",
              "        document.querySelector('#df-6c514723-a81c-498f-b2c6-25f02c68b0ee button.colab-df-convert');\n",
              "      buttonEl.style.display =\n",
              "        google.colab.kernel.accessAllowed ? 'block' : 'none';\n",
              "\n",
              "      async function convertToInteractive(key) {\n",
              "        const element = document.querySelector('#df-6c514723-a81c-498f-b2c6-25f02c68b0ee');\n",
              "        const dataTable =\n",
              "          await google.colab.kernel.invokeFunction('convertToInteractive',\n",
              "                                                    [key], {});\n",
              "        if (!dataTable) return;\n",
              "\n",
              "        const docLinkHtml = 'Like what you see? Visit the ' +\n",
              "          '<a target=\"_blank\" href=https://colab.research.google.com/notebooks/data_table.ipynb>data table notebook</a>'\n",
              "          + ' to learn more about interactive tables.';\n",
              "        element.innerHTML = '';\n",
              "        dataTable['output_type'] = 'display_data';\n",
              "        await google.colab.output.renderOutput(dataTable, element);\n",
              "        const docLink = document.createElement('div');\n",
              "        docLink.innerHTML = docLinkHtml;\n",
              "        element.appendChild(docLink);\n",
              "      }\n",
              "    </script>\n",
              "  </div>\n",
              "\n",
              "\n",
              "<div id=\"df-c6eb1fe5-6663-44d4-baec-e03ba63c9474\">\n",
              "  <button class=\"colab-df-quickchart\" onclick=\"quickchart('df-c6eb1fe5-6663-44d4-baec-e03ba63c9474')\"\n",
              "            title=\"Suggest charts\"\n",
              "            style=\"display:none;\">\n",
              "\n",
              "<svg xmlns=\"http://www.w3.org/2000/svg\" height=\"24px\"viewBox=\"0 0 24 24\"\n",
              "     width=\"24px\">\n",
              "    <g>\n",
              "        <path d=\"M19 3H5c-1.1 0-2 .9-2 2v14c0 1.1.9 2 2 2h14c1.1 0 2-.9 2-2V5c0-1.1-.9-2-2-2zM9 17H7v-7h2v7zm4 0h-2V7h2v10zm4 0h-2v-4h2v4z\"/>\n",
              "    </g>\n",
              "</svg>\n",
              "  </button>\n",
              "\n",
              "<style>\n",
              "  .colab-df-quickchart {\n",
              "      --bg-color: #E8F0FE;\n",
              "      --fill-color: #1967D2;\n",
              "      --hover-bg-color: #E2EBFA;\n",
              "      --hover-fill-color: #174EA6;\n",
              "      --disabled-fill-color: #AAA;\n",
              "      --disabled-bg-color: #DDD;\n",
              "  }\n",
              "\n",
              "  [theme=dark] .colab-df-quickchart {\n",
              "      --bg-color: #3B4455;\n",
              "      --fill-color: #D2E3FC;\n",
              "      --hover-bg-color: #434B5C;\n",
              "      --hover-fill-color: #FFFFFF;\n",
              "      --disabled-bg-color: #3B4455;\n",
              "      --disabled-fill-color: #666;\n",
              "  }\n",
              "\n",
              "  .colab-df-quickchart {\n",
              "    background-color: var(--bg-color);\n",
              "    border: none;\n",
              "    border-radius: 50%;\n",
              "    cursor: pointer;\n",
              "    display: none;\n",
              "    fill: var(--fill-color);\n",
              "    height: 32px;\n",
              "    padding: 0;\n",
              "    width: 32px;\n",
              "  }\n",
              "\n",
              "  .colab-df-quickchart:hover {\n",
              "    background-color: var(--hover-bg-color);\n",
              "    box-shadow: 0 1px 2px rgba(60, 64, 67, 0.3), 0 1px 3px 1px rgba(60, 64, 67, 0.15);\n",
              "    fill: var(--button-hover-fill-color);\n",
              "  }\n",
              "\n",
              "  .colab-df-quickchart-complete:disabled,\n",
              "  .colab-df-quickchart-complete:disabled:hover {\n",
              "    background-color: var(--disabled-bg-color);\n",
              "    fill: var(--disabled-fill-color);\n",
              "    box-shadow: none;\n",
              "  }\n",
              "\n",
              "  .colab-df-spinner {\n",
              "    border: 2px solid var(--fill-color);\n",
              "    border-color: transparent;\n",
              "    border-bottom-color: var(--fill-color);\n",
              "    animation:\n",
              "      spin 1s steps(1) infinite;\n",
              "  }\n",
              "\n",
              "  @keyframes spin {\n",
              "    0% {\n",
              "      border-color: transparent;\n",
              "      border-bottom-color: var(--fill-color);\n",
              "      border-left-color: var(--fill-color);\n",
              "    }\n",
              "    20% {\n",
              "      border-color: transparent;\n",
              "      border-left-color: var(--fill-color);\n",
              "      border-top-color: var(--fill-color);\n",
              "    }\n",
              "    30% {\n",
              "      border-color: transparent;\n",
              "      border-left-color: var(--fill-color);\n",
              "      border-top-color: var(--fill-color);\n",
              "      border-right-color: var(--fill-color);\n",
              "    }\n",
              "    40% {\n",
              "      border-color: transparent;\n",
              "      border-right-color: var(--fill-color);\n",
              "      border-top-color: var(--fill-color);\n",
              "    }\n",
              "    60% {\n",
              "      border-color: transparent;\n",
              "      border-right-color: var(--fill-color);\n",
              "    }\n",
              "    80% {\n",
              "      border-color: transparent;\n",
              "      border-right-color: var(--fill-color);\n",
              "      border-bottom-color: var(--fill-color);\n",
              "    }\n",
              "    90% {\n",
              "      border-color: transparent;\n",
              "      border-bottom-color: var(--fill-color);\n",
              "    }\n",
              "  }\n",
              "</style>\n",
              "\n",
              "  <script>\n",
              "    async function quickchart(key) {\n",
              "      const quickchartButtonEl =\n",
              "        document.querySelector('#' + key + ' button');\n",
              "      quickchartButtonEl.disabled = true;  // To prevent multiple clicks.\n",
              "      quickchartButtonEl.classList.add('colab-df-spinner');\n",
              "      try {\n",
              "        const charts = await google.colab.kernel.invokeFunction(\n",
              "            'suggestCharts', [key], {});\n",
              "      } catch (error) {\n",
              "        console.error('Error during call to suggestCharts:', error);\n",
              "      }\n",
              "      quickchartButtonEl.classList.remove('colab-df-spinner');\n",
              "      quickchartButtonEl.classList.add('colab-df-quickchart-complete');\n",
              "    }\n",
              "    (() => {\n",
              "      let quickchartButtonEl =\n",
              "        document.querySelector('#df-c6eb1fe5-6663-44d4-baec-e03ba63c9474 button');\n",
              "      quickchartButtonEl.style.display =\n",
              "        google.colab.kernel.accessAllowed ? 'block' : 'none';\n",
              "    })();\n",
              "  </script>\n",
              "</div>\n",
              "\n",
              "    </div>\n",
              "  </div>\n"
            ],
            "application/vnd.google.colaboratory.intrinsic+json": {
              "type": "dataframe",
              "variable_name": "df"
            }
          },
          "metadata": {},
          "execution_count": 17
        }
      ]
    },
    {
      "cell_type": "markdown",
      "source": [
        "## **Filling Missing Data**"
      ],
      "metadata": {
        "id": "d8ACo9IBZcTl"
      }
    },
    {
      "cell_type": "code",
      "source": [
        "df.isnull().sum()"
      ],
      "metadata": {
        "colab": {
          "base_uri": "https://localhost:8080/",
          "height": 774
        },
        "id": "VPXQ-6g6ZeUP",
        "outputId": "37f6603a-6f5c-40fd-e745-176b27f3a17b"
      },
      "execution_count": null,
      "outputs": [
        {
          "output_type": "execute_result",
          "data": {
            "text/plain": [
              "id                            0\n",
              "Age                       18705\n",
              "Gender                        0\n",
              "Annual Income             44949\n",
              "Marital Status                0\n",
              "Number of Dependents     109672\n",
              "Education Level               0\n",
              "Occupation                    0\n",
              "Health Score              74076\n",
              "Location                      0\n",
              "Policy Type                   0\n",
              "Previous Claims          364029\n",
              "Credit Score             137882\n",
              "Insurance Duration            1\n",
              "Policy Start Date             0\n",
              "Customer Feedback         77824\n",
              "Smoking Status                0\n",
              "Exercise Frequency            0\n",
              "Property Type                 0\n",
              "Premium Amount           415032\n",
              "Age Group                     0\n",
              "Health Score Category         0\n",
              "dtype: int64"
            ],
            "text/html": [
              "<div>\n",
              "<style scoped>\n",
              "    .dataframe tbody tr th:only-of-type {\n",
              "        vertical-align: middle;\n",
              "    }\n",
              "\n",
              "    .dataframe tbody tr th {\n",
              "        vertical-align: top;\n",
              "    }\n",
              "\n",
              "    .dataframe thead th {\n",
              "        text-align: right;\n",
              "    }\n",
              "</style>\n",
              "<table border=\"1\" class=\"dataframe\">\n",
              "  <thead>\n",
              "    <tr style=\"text-align: right;\">\n",
              "      <th></th>\n",
              "      <th>0</th>\n",
              "    </tr>\n",
              "  </thead>\n",
              "  <tbody>\n",
              "    <tr>\n",
              "      <th>id</th>\n",
              "      <td>0</td>\n",
              "    </tr>\n",
              "    <tr>\n",
              "      <th>Age</th>\n",
              "      <td>18705</td>\n",
              "    </tr>\n",
              "    <tr>\n",
              "      <th>Gender</th>\n",
              "      <td>0</td>\n",
              "    </tr>\n",
              "    <tr>\n",
              "      <th>Annual Income</th>\n",
              "      <td>44949</td>\n",
              "    </tr>\n",
              "    <tr>\n",
              "      <th>Marital Status</th>\n",
              "      <td>0</td>\n",
              "    </tr>\n",
              "    <tr>\n",
              "      <th>Number of Dependents</th>\n",
              "      <td>109672</td>\n",
              "    </tr>\n",
              "    <tr>\n",
              "      <th>Education Level</th>\n",
              "      <td>0</td>\n",
              "    </tr>\n",
              "    <tr>\n",
              "      <th>Occupation</th>\n",
              "      <td>0</td>\n",
              "    </tr>\n",
              "    <tr>\n",
              "      <th>Health Score</th>\n",
              "      <td>74076</td>\n",
              "    </tr>\n",
              "    <tr>\n",
              "      <th>Location</th>\n",
              "      <td>0</td>\n",
              "    </tr>\n",
              "    <tr>\n",
              "      <th>Policy Type</th>\n",
              "      <td>0</td>\n",
              "    </tr>\n",
              "    <tr>\n",
              "      <th>Previous Claims</th>\n",
              "      <td>364029</td>\n",
              "    </tr>\n",
              "    <tr>\n",
              "      <th>Credit Score</th>\n",
              "      <td>137882</td>\n",
              "    </tr>\n",
              "    <tr>\n",
              "      <th>Insurance Duration</th>\n",
              "      <td>1</td>\n",
              "    </tr>\n",
              "    <tr>\n",
              "      <th>Policy Start Date</th>\n",
              "      <td>0</td>\n",
              "    </tr>\n",
              "    <tr>\n",
              "      <th>Customer Feedback</th>\n",
              "      <td>77824</td>\n",
              "    </tr>\n",
              "    <tr>\n",
              "      <th>Smoking Status</th>\n",
              "      <td>0</td>\n",
              "    </tr>\n",
              "    <tr>\n",
              "      <th>Exercise Frequency</th>\n",
              "      <td>0</td>\n",
              "    </tr>\n",
              "    <tr>\n",
              "      <th>Property Type</th>\n",
              "      <td>0</td>\n",
              "    </tr>\n",
              "    <tr>\n",
              "      <th>Premium Amount</th>\n",
              "      <td>415032</td>\n",
              "    </tr>\n",
              "    <tr>\n",
              "      <th>Age Group</th>\n",
              "      <td>0</td>\n",
              "    </tr>\n",
              "    <tr>\n",
              "      <th>Health Score Category</th>\n",
              "      <td>0</td>\n",
              "    </tr>\n",
              "  </tbody>\n",
              "</table>\n",
              "</div><br><label><b>dtype:</b> int64</label>"
            ]
          },
          "metadata": {},
          "execution_count": 18
        }
      ]
    },
    {
      "cell_type": "code",
      "source": [
        "plt.figure(figsize=(12, 6))\n",
        "sns.heatmap(df.isnull(), cbar=False, cmap='viridis')\n",
        "plt.title(\"Missing Data Heatmap\")\n",
        "plt.show()"
      ],
      "metadata": {
        "colab": {
          "base_uri": "https://localhost:8080/",
          "height": 693
        },
        "id": "HZ8D2ANeZiOX",
        "outputId": "91d686c3-9421-4fd2-c354-4e5a6b710e6e"
      },
      "execution_count": null,
      "outputs": [
        {
          "output_type": "display_data",
          "data": {
            "text/plain": [
              "<Figure size 1200x600 with 1 Axes>"
            ],
            "image/png": "[encoded data removed]"
          },
          "metadata": {}
        }
      ]
    },
    {
      "cell_type": "code",
      "source": [
        "missing_counts = df.isnull().sum().sort_values(ascending=False)\n",
        "missing_counts = missing_counts[missing_counts > 0]  # Only show missing columns\n",
        "\n",
        "missing_counts.plot(kind='barh', figsize=(10, 6), color='skyblue')\n",
        "plt.xlabel(\"Number of Missing Values\")\n",
        "plt.title(\"Missing Values Per Column\")\n",
        "plt.show()"
      ],
      "metadata": {
        "colab": {
          "base_uri": "https://localhost:8080/",
          "height": 564
        },
        "id": "RsKTvXS1Znbh",
        "outputId": "dd98cde0-9bea-4879-cce9-f9f2b837dc9c"
      },
      "execution_count": null,
      "outputs": [
        {
          "output_type": "display_data",
          "data": {
            "text/plain": [
              "<Figure size 1000x600 with 1 Axes>"
            ],
            "image/png": "[encoded data removed]"
          },
          "metadata": {}
        }
      ]
    },
    {
      "cell_type": "code",
      "source": [
        "#Drop the rows where 5 or more values are missing"
      ],
      "metadata": {
        "id": "7PqCZE0rZwRK"
      },
      "execution_count": null,
      "outputs": []
    },
    {
      "cell_type": "markdown",
      "source": [
        "**Drop the rows where 5 or more values are missing**"
      ],
      "metadata": {
        "id": "V_jOxSWSZ0Mj"
      }
    },
    {
      "cell_type": "code",
      "source": [
        "# We are removing rows where more than 4 key columns have missing values.\n",
        "\n",
        "# Key columns to check for missing values\n",
        "key_columns = ['Age', 'Annual Income', 'Health Score', 'Previous Claims',\n",
        "               'Number of Dependents', 'Credit Score', 'Customer Feedback','Insurance Duration','Premium Amount']\n",
        "\n",
        "# Count missing values in each row for the key columns\n",
        "df['missing_count'] = df[key_columns].isnull().sum(axis=1)\n",
        "\n",
        "# Filter rows where most key columns are missing (e.g., more than 4 out of 7)\n",
        "missing_rows = df[df['missing_count'] > 4]\n",
        "\n",
        "# Drop rows where more than 4 key columns are missing\n",
        "df = df[df['missing_count'] <= 4].drop(columns='missing_count')\n",
        "\n",
        "# Check the new shape of the dataset\n",
        "print(df.shape)\n"
      ],
      "metadata": {
        "colab": {
          "base_uri": "https://localhost:8080/"
        },
        "id": "y7W_qnoGZ3lw",
        "outputId": "e6c87ff6-56b1-400d-92bd-987905456a38"
      },
      "execution_count": null,
      "outputs": [
        {
          "output_type": "stream",
          "name": "stdout",
          "text": [
            "(1198440, 22)\n"
          ]
        }
      ]
    },
    {
      "cell_type": "markdown",
      "source": [
        "**Fill the missing values**"
      ],
      "metadata": {
        "id": "Y7Xwk9Unbdfy"
      }
    },
    {
      "cell_type": "code",
      "source": [
        "#1Age\n",
        "print(f\"Missing values after filling: {df['Age'].isnull().sum()}\")\n",
        "\n",
        "# 1. Calculate overall median age (fallback value)\n",
        "overall_median_age = df['Age'].median()\n",
        "\n",
        "# 2. Fill missing ages using group medians (Occupation + Policy Type)\n",
        "df['Age'] = df.groupby(['Occupation', 'Policy Type'])['Age'].transform(\n",
        "    lambda x: x.fillna(x.median() if len(x) >= 50 else overall_median_age)\n",
        ")\n",
        "\n",
        "# 3. Fill any remaining nulls with overall media\n",
        "df['Age'] = df['Age'].fillna(overall_median_age)\n",
        "\n",
        "# Verify result\n",
        "print(f\"Missing values after filling: {df['Age'].isnull().sum()}\")"
      ],
      "metadata": {
        "colab": {
          "base_uri": "https://localhost:8080/"
        },
        "id": "QESRfVlibk2l",
        "outputId": "b86b349a-e722-4718-9478-f303848d8709"
      },
      "execution_count": null,
      "outputs": [
        {
          "output_type": "stream",
          "name": "stdout",
          "text": [
            "Missing values after filling: 18391\n",
            "Missing values after filling: 0\n"
          ]
        }
      ]
    },
    {
      "cell_type": "code",
      "source": [
        "#Annual Income\n",
        "\n",
        "print(f\"Missing values before filling: {df['Annual Income'].isnull().sum()}\")\n",
        "\n",
        "# 1. Calculate overall median income (fallback value)\n",
        "overall_median_income = df['Annual Income'].median()\n",
        "\n",
        "# 2. Fill missing income using group medians (Occupation + Education Level)\n",
        "df['Annual Income'] = df.groupby(['Occupation', 'Education Level'])['Annual Income'].transform(\n",
        "    lambda x: x.fillna(x.median() if len(x) >= 50 else overall_median_income)\n",
        ")\n",
        "\n",
        "# 3. Fill any remaining nulls with overall median\n",
        "df['Annual Income'] = df['Annual Income'].fillna(overall_median_income)\n",
        "\n",
        "# Verify result\n",
        "print(f\"Missing values after filling: {df['Annual Income'].isnull().sum()}\")"
      ],
      "metadata": {
        "colab": {
          "base_uri": "https://localhost:8080/"
        },
        "id": "vQzlydw9brpy",
        "outputId": "00db6ce9-86a5-4ab9-a349-dc81544b9215"
      },
      "execution_count": null,
      "outputs": [
        {
          "output_type": "stream",
          "name": "stdout",
          "text": [
            "Missing values before filling: 44421\n",
            "Missing values after filling: 0\n"
          ]
        }
      ]
    },
    {
      "cell_type": "code",
      "source": [
        "# Health Score\n",
        "print(f\"Missing values before filling: {df['Health Score'].isnull().sum()}\")\n",
        "\n",
        "# 1. Define function to get mode (with tie-breaker: worst-case score)\n",
        "def get_mode(series):\n",
        "    modes = series.mode()\n",
        "    return modes.min() if not modes.empty else np.nan\n",
        "\n",
        "# 2. Fill missing values with group mode (Smoking Status + Exercise Frequency)\n",
        "group_modes = df.groupby(['Smoking Status', 'Exercise Frequency'])['Health Score'].transform(get_mode)\n",
        "df['Health Score'] = df['Health Score'].fillna(group_modes)\n",
        "\n",
        "# 3. Fill remaining nulls with overall mode\n",
        "overall_mode = df['Health Score'].mode()[0]\n",
        "df['Health Score'] = df['Health Score'].fillna(overall_mode)\n",
        "\n",
        "print(f\"Missing values after filling: {df['Health Score'].isnull().sum()}\")"
      ],
      "metadata": {
        "colab": {
          "base_uri": "https://localhost:8080/"
        },
        "id": "f2PQIv-5burf",
        "outputId": "f2deca0a-0b93-465b-96c5-b166978dda91"
      },
      "execution_count": null,
      "outputs": [
        {
          "output_type": "stream",
          "name": "stdout",
          "text": [
            "Missing values before filling: 73231\n",
            "Missing values after filling: 0\n"
          ]
        }
      ]
    },
    {
      "cell_type": "code",
      "source": [
        "#Previous Claims\n",
        "print(f\"Missing values before filling: {df['Previous Claims'].isnull().sum()}\")\n",
        "\n",
        "# Fill missing Previous Claims\n",
        "# 1. If Insurance Duration < 1 year or missing, fill with 0 (assuming new customer)\n",
        "df['Previous Claims'] = df.apply(\n",
        "    lambda row: 0 if pd.isna(row['Insurance Duration']) or row['Insurance Duration'] < 1 else row['Previous Claims'],\n",
        "    axis=1\n",
        ")\n",
        "\n",
        "# 2. For remaining missing values (existing customers), fill with median based on Policy Type\n",
        "df['Previous Claims'] = df.groupby('Policy Type')['Previous Claims'].transform(\n",
        "    lambda x: x.fillna(x.median())\n",
        ")\n",
        "print(f\"Missing values after filling: {df['Previous Claims'].isnull().sum()}\")"
      ],
      "metadata": {
        "colab": {
          "base_uri": "https://localhost:8080/"
        },
        "id": "X_IKUCkMbxJs",
        "outputId": "be6a9ed5-d276-47a5-ed03-099c20a0369c"
      },
      "execution_count": null,
      "outputs": [
        {
          "output_type": "stream",
          "name": "stdout",
          "text": [
            "Missing values before filling: 362589\n",
            "Missing values after filling: 0\n"
          ]
        }
      ]
    },
    {
      "cell_type": "code",
      "source": [
        "#Number of Dependents\n",
        "\n",
        "print(df['Number of Dependents'].isnull().sum())\n",
        "\n",
        "# Step 1: Median dependents for 'Spouse Present'\n",
        "median_dependents_spouse_present = df.loc[df['Marital Status'] == 'Spouse Present', 'Number of Dependents'].median()\n",
        "\n",
        "# Step 2: Fill missing values based on Marital Status\n",
        "df.loc[(df['Marital Status'] == 'Spouse Present') & (df['Number of Dependents'].isnull()), 'Number of Dependents'] = median_dependents_spouse_present\n",
        "df.loc[(df['Marital Status'] == 'Not Married') & (df['Number of Dependents'].isnull()), 'Number of Dependents'] = 0\n",
        "\n",
        "# Optional: Fill remaining nulls (Unknown/Formerly Married) with overall median\n",
        "overall_median_dependents = df['Number of Dependents'].median()\n",
        "df['Number of Dependents'].fillna(overall_median_dependents, inplace=True)\n",
        "\n",
        "# Check if missing values are filled\n",
        "print(df['Number of Dependents'].isnull().sum())"
      ],
      "metadata": {
        "colab": {
          "base_uri": "https://localhost:8080/"
        },
        "id": "9G8uKcDubzMx",
        "outputId": "19e1aa97-79e2-43ac-ea24-7f653525d642"
      },
      "execution_count": null,
      "outputs": [
        {
          "output_type": "stream",
          "name": "stdout",
          "text": [
            "108611\n",
            "0\n"
          ]
        },
        {
          "output_type": "stream",
          "name": "stderr",
          "text": [
            "<ipython-input-27-1fcb0017b83d>:14: FutureWarning: A value is trying to be set on a copy of a DataFrame or Series through chained assignment using an inplace method.\n",
            "The behavior will change in pandas 3.0. This inplace method will never work because the intermediate object on which we are setting values always behaves as a copy.\n",
            "\n",
            "For example, when doing 'df[col].method(value, inplace=True)', try using 'df.method({col: value}, inplace=True)' or df[col] = df[col].method(value) instead, to perform the operation inplace on the original object.\n",
            "\n",
            "\n",
            "  df['Number of Dependents'].fillna(overall_median_dependents, inplace=True)\n"
          ]
        }
      ]
    },
    {
      "cell_type": "code",
      "source": [
        "# Credit Score\n",
        "print(f\"Missing values before filling: {df['Credit Score'].isnull().sum()}\")\n",
        "\n",
        "# 1. Calculate overall median (fallback)\n",
        "overall_median = df['Credit Score'].median()\n",
        "\n",
        "# 2. Group by Occupation, fill nulls with group median (if group has ≥50 rows) or overall median\n",
        "group_medians = df.groupby('Occupation')['Credit Score'].transform(\n",
        "    lambda x: x.median() if len(x) >= 50 else overall_median\n",
        ")\n",
        "df['Credit Score'] = df['Credit Score'].fillna(group_medians)\n",
        "\n",
        "# 3. Fill any remaining nulls with overall median\n",
        "df['Credit Score'] = df['Credit Score'].fillna(overall_median)\n",
        "\n",
        "print(f\"Missing values after filling: {df['Credit Score'].isnull().sum()}\")"
      ],
      "metadata": {
        "colab": {
          "base_uri": "https://localhost:8080/"
        },
        "id": "32tIWTlYdPHZ",
        "outputId": "191b52aa-ae80-4df3-98b2-bb15821d0b02"
      },
      "execution_count": null,
      "outputs": [
        {
          "output_type": "stream",
          "name": "stdout",
          "text": [
            "Missing values before filling: 136782\n",
            "Missing values after filling: 0\n"
          ]
        }
      ]
    },
    {
      "cell_type": "code",
      "source": [
        "# Customer Feedback\n",
        "print(f\"Missing values before filling: {df['Customer Feedback'].isnull().sum()}\")\n",
        "\n",
        "# 1. Fill missing feedback with group mode (Policy Type + Location)\n",
        "df['Customer Feedback'] = df.groupby(['Policy Type', 'Location'])['Customer Feedback'].transform(\n",
        "    lambda x: x.fillna(x.mode()[0])  # Use first mode in case of ties\n",
        ")\n",
        "\n",
        "# 2. Fill remaining nulls with overall most common feedback\n",
        "most_common_feedback = df['Customer Feedback'].mode()[0]\n",
        "df['Customer Feedback'] = df['Customer Feedback'].fillna(most_common_feedback)\n",
        "\n",
        "print(f\"Missing values after filling: {df['Customer Feedback'].isnull().sum()}\")"
      ],
      "metadata": {
        "colab": {
          "base_uri": "https://localhost:8080/"
        },
        "id": "vbvSPh-0dPKh",
        "outputId": "54638400-05a3-47ed-8d05-3f2434f5da22"
      },
      "execution_count": null,
      "outputs": [
        {
          "output_type": "stream",
          "name": "stdout",
          "text": [
            "Missing values before filling: 76792\n",
            "Missing values after filling: 0\n"
          ]
        }
      ]
    },
    {
      "cell_type": "code",
      "source": [
        "# Level 1: Policy Type + Location + Age Group\n",
        "df['Premium Amount'] = df.groupby(\n",
        "    ['Policy Type', 'Location', 'Age Group']\n",
        ")['Premium Amount'].transform(lambda x: x.fillna(x.median()))\n",
        "\n",
        "# Level 2: Policy Type + Location (fallback)\n",
        "df['Premium Amount'] = df.groupby(\n",
        "    ['Policy Type', 'Location']\n",
        ")['Premium Amount'].transform(lambda x: x.fillna(x.median()))\n",
        "\n",
        "# Level 3: Policy Type (fallback)\n",
        "df['Premium Amount'] = df.groupby('Policy Type')['Premium Amount'].transform(\n",
        "    lambda x: x.fillna(x.median())\n",
        ")\n",
        "\n",
        "# Final Fallback: Overall median\n",
        "overall_median = df['Premium Amount'].median()\n",
        "df['Premium Amount'] = df['Premium Amount'].fillna(overall_median)\n",
        "\n",
        "# --------------------------------------------------------------------------\n",
        "# Step 3: Verify results\n",
        "# --------------------------------------------------------------------------\n",
        "print(f\"Missing values remaining: {df['Premium Amount'].isnull().sum()}\")\n"
      ],
      "metadata": {
        "colab": {
          "base_uri": "https://localhost:8080/"
        },
        "id": "24Aq5wDkdPQT",
        "outputId": "6ead1507-d449-4a22-cd51-2a8cf50193dc"
      },
      "execution_count": null,
      "outputs": [
        {
          "output_type": "stream",
          "name": "stdout",
          "text": [
            "Missing values remaining: 0\n"
          ]
        }
      ]
    },
    {
      "cell_type": "markdown",
      "source": [
        "## **Outilers**"
      ],
      "metadata": {
        "id": "Krz_y9qJfX0m"
      }
    },
    {
      "cell_type": "code",
      "source": [
        "# List of numerical columns to check for outliers\n",
        "columns_to_check = [\n",
        "    \"Age\", \"Annual Income\", \"Number of Dependents\", \"Health Score\",\n",
        "    \"Previous Claims\", \"Credit Score\", \"Insurance Duration\", \"Premium Amount\"\n",
        "]\n",
        "\n",
        "# Detect outliers using IQR method\n",
        "for column in columns_to_check:\n",
        "    Q1 = df[column].quantile(0.25)\n",
        "    Q3 = df[column].quantile(0.75)\n",
        "    IQR = Q3 - Q1\n",
        "    lower_bound = Q1 - 1.5 * IQR\n",
        "    upper_bound = Q3 + 1.5 * IQR\n",
        "\n",
        "    # Identify outliers\n",
        "    outliers = (df[column] < lower_bound) | (df[column] > upper_bound)\n",
        "\n",
        "    # Print outlier values\n",
        "    print(f\"Outliers in {column}:\")\n",
        "    print(df[outliers][column].values)\n",
        "    print(\"-\" * 50)"
      ],
      "metadata": {
        "colab": {
          "base_uri": "https://localhost:8080/"
        },
        "id": "9EJ-uPwCfaU5",
        "outputId": "d400489c-9766-46ac-b17a-fab92b90241e"
      },
      "execution_count": null,
      "outputs": [
        {
          "output_type": "stream",
          "name": "stdout",
          "text": [
            "Outliers in Age:\n",
            "<IntegerArray>\n",
            "[]\n",
            "Length: 0, dtype: Int64\n",
            "--------------------------------------------------\n",
            "Outliers in Annual Income:\n",
            "[ 8942382. 10642586.  5102224. ...  4267852.  7627614.  4225024.]\n",
            "--------------------------------------------------\n",
            "Outliers in Number of Dependents:\n",
            "<IntegerArray>\n",
            "[]\n",
            "Length: 0, dtype: Int64\n",
            "--------------------------------------------------\n",
            "Outliers in Health Score:\n",
            "[]\n",
            "--------------------------------------------------\n",
            "Outliers in Previous Claims:\n",
            "[3. 3. 3. ... 4. 3. 3.]\n",
            "--------------------------------------------------\n",
            "Outliers in Credit Score:\n",
            "[]\n",
            "--------------------------------------------------\n",
            "Outliers in Insurance Duration:\n",
            "[]\n",
            "--------------------------------------------------\n",
            "Outliers in Premium Amount:\n",
            "[60067.38023978 47219.5120086  80505.37405629 ... 52714.2924196\n",
            " 51794.31105174 67101.50990761]\n",
            "--------------------------------------------------\n"
          ]
        }
      ]
    },
    {
      "cell_type": "code",
      "source": [
        "# List of columns to check\n",
        "columns_to_check = [\"Annual Income\", \"Premium Amount\", \"Previous Claims\"] # previous clamins\n",
        "\n",
        "# Dictionary to store outlier counts\n",
        "outlier_counts = {}\n",
        "\n",
        "# Detect outliers using IQR method\n",
        "for column in columns_to_check:\n",
        "    Q1 = df[column].quantile(0.25)\n",
        "    Q3 = df[column].quantile(0.75)\n",
        "    IQR = Q3 - Q1\n",
        "    lower_bound = Q1 - 1.5 * IQR\n",
        "    upper_bound = Q3 + 1.5 * IQR\n",
        "\n",
        "    # Count outliers\n",
        "    outliers = ((df[column] < lower_bound) | (df[column] > upper_bound)).sum()\n",
        "    outlier_counts[column] = outliers\n",
        "\n",
        "# Print the number of outliers in each column\n",
        "print(\"Outlier Counts:\")\n",
        "print(outlier_counts)"
      ],
      "metadata": {
        "colab": {
          "base_uri": "https://localhost:8080/"
        },
        "id": "FWhApCKRfcLi",
        "outputId": "66d20673-40b4-4867-baac-40bd11747ae3"
      },
      "execution_count": null,
      "outputs": [
        {
          "output_type": "stream",
          "name": "stdout",
          "text": [
            "Outlier Counts:\n",
            "{'Annual Income': 117135, 'Premium Amount': 127320, 'Previous Claims': 62056}\n"
          ]
        }
      ]
    },
    {
      "cell_type": "code",
      "source": [
        "# Calculate the 5th and 95th percentiles for Annual Income\n",
        "lower_bound_income = np.percentile(df['Annual Income'], 5)\n",
        "upper_bound_income = np.percentile(df['Annual Income'], 95)\n",
        "\n",
        "print(f\"Annual Income Capping Range: ({lower_bound_income}, {upper_bound_income})\")\n",
        "\n",
        "# Apply 5%-95% capping to Annual Income\n",
        "df['Annual Income'] = np.clip(df['Annual Income'], lower_bound_income, upper_bound_income)\n",
        "\n",
        "# Calculate the 4th and 96th percentiles for Premium Amount\n",
        "lower_bound_premium = np.percentile(df['Premium Amount'], 4)\n",
        "upper_bound_premium = np.percentile(df['Premium Amount'], 96)\n",
        "\n",
        "print(f\"Premium Amount Capping Range: ({lower_bound_premium}, {upper_bound_premium})\")\n",
        "\n",
        "# Apply 4%-96% capping to Premium Amount\n",
        "df['Premium Amount'] = np.clip(df['Premium Amount'], lower_bound_premium, upper_bound_premium)\n",
        "\n",
        "print(f\"After Capping - Min: {df['Premium Amount'].min()}, Max: {df['Premium Amount'].max()}\")"
      ],
      "metadata": {
        "colab": {
          "base_uri": "https://localhost:8080/"
        },
        "id": "9FvfYsrDfjQ1",
        "outputId": "bdc57027-0fff-4e4c-8392-870a57eff925"
      },
      "execution_count": null,
      "outputs": [
        {
          "output_type": "stream",
          "name": "stdout",
          "text": [
            "Annual Income Capping Range: (88150.0, 6306990.600000008)\n",
            "Premium Amount Capping Range: (2690.7025942529003, 81897.70396749469)\n",
            "After Capping - Min: 2690.7025942529003, Max: 81897.70396749469\n"
          ]
        }
      ]
    },
    {
      "cell_type": "code",
      "source": [
        "# Cap Previous Claims at a maximum of 6\n",
        "df['Previous Claims'] = np.where(df['Previous Claims'] > 6, 6, df['Previous Claims'])\n",
        "\n",
        "# Check the updated value counts\n",
        "print(df['Previous Claims'].value_counts().sort_index())"
      ],
      "metadata": {
        "colab": {
          "base_uri": "https://localhost:8080/"
        },
        "id": "G9a20sMpfvR6",
        "outputId": "71be3392-31d3-40ff-d6e4-8d2e7869bf36"
      },
      "execution_count": null,
      "outputs": [
        {
          "output_type": "stream",
          "name": "stdout",
          "text": [
            "Previous Claims\n",
            "0.00    305385\n",
            "1.00    663368\n",
            "2.00    167631\n",
            "3.00     49003\n",
            "4.00     10668\n",
            "5.00      2016\n",
            "6.00       369\n",
            "Name: count, dtype: int64\n"
          ]
        }
      ]
    },
    {
      "cell_type": "markdown",
      "source": [
        "*  **Annual Income Capping (5th-95th Percentile):**\n",
        "We calculate the 5th percentile (lower_bound_income) and 95th percentile (upper_bound_income) of the Annual Income column.\n",
        "Any value below the 5th percentile is capped to the 5th percentile, and above the 95th percentile is capped to the 95th percentile using np.clip().\n",
        "Premium Amount Capping (4th-96th Percentile):\n",
        "\n",
        "*  **Premium AmountC apping (4th-96th Percentile):** Values below the 4th percentile or above the 96th percentile are capped within this range.\n",
        "\n",
        "\n",
        "*  **Cap Previous Claims at 6:**Any value in the Previous Claims column greater than 6 is replaced by 6 using np.where().\n",
        "\n",
        "\n",
        "\n",
        "\n",
        "\n",
        "\n",
        "\n",
        "\n",
        "\n",
        "\n"
      ],
      "metadata": {
        "id": "oh65jYkzgkLP"
      }
    },
    {
      "cell_type": "markdown",
      "source": [
        "## **Key Metrics & Calculations**"
      ],
      "metadata": {
        "id": "UKy5aJF3hMqc"
      }
    },
    {
      "cell_type": "code",
      "source": [
        "# 1 Distribution of Policy Types\n",
        "print(\"\\n\\033[1m Policy Type Distribution: \\033[0m\")\n",
        "print(df['Policy Type'].value_counts())"
      ],
      "metadata": {
        "colab": {
          "base_uri": "https://localhost:8080/"
        },
        "id": "8GpPgetXhTXx",
        "outputId": "fcfdeabc-d30a-41e5-a45d-b7aae4b1badd"
      },
      "execution_count": null,
      "outputs": [
        {
          "output_type": "stream",
          "name": "stdout",
          "text": [
            "\n",
            "\u001b[1m Policy Type Distribution: \u001b[0m\n",
            "Policy Type\n",
            "Premium          401345\n",
            "Comprehensive    399087\n",
            "Basic            398008\n",
            "Name: count, dtype: int64\n"
          ]
        }
      ]
    },
    {
      "cell_type": "code",
      "source": [
        "# 2 Age Group Distribution\n",
        "print(\"\\n\\033[1m Age Group Distribution: \\033[0m\")\n",
        "print(df['Age Group'].value_counts())"
      ],
      "metadata": {
        "colab": {
          "base_uri": "https://localhost:8080/"
        },
        "id": "es6OVSfphWyi",
        "outputId": "fb63bcf4-38b2-4e90-85e0-cd05444a0b38"
      },
      "execution_count": null,
      "outputs": [
        {
          "output_type": "stream",
          "name": "stdout",
          "text": [
            "\n",
            "\u001b[1m Age Group Distribution: \u001b[0m\n",
            "Age Group\n",
            "31-50    505676\n",
            "51+      373681\n",
            "18-30    319083\n",
            "Name: count, dtype: int64\n"
          ]
        }
      ]
    },
    {
      "cell_type": "code",
      "source": [
        "# 3 Location Distribution\n",
        "print(\"\\n\\033[1m Location Distribution: \\033[0m\")\n",
        "print(df['Location'].value_counts())"
      ],
      "metadata": {
        "colab": {
          "base_uri": "https://localhost:8080/"
        },
        "id": "Zg1qGvfJhYtm",
        "outputId": "c9a54937-035f-46ff-d111-2f6021efdc3a"
      },
      "execution_count": null,
      "outputs": [
        {
          "output_type": "stream",
          "name": "stdout",
          "text": [
            "\n",
            "\u001b[1m Location Distribution: \u001b[0m\n",
            "Location\n",
            "Tier-3    401023\n",
            "Tier-2    400416\n",
            "Tier-1    397001\n",
            "Name: count, dtype: int64\n"
          ]
        }
      ]
    },
    {
      "cell_type": "code",
      "source": [
        "# 4 Smoking Status Distribution\n",
        "print(\"\\n\\033[1m Smoking Status Distribution: \\033[0m\")\n",
        "print(df['Smoking Status'].value_counts())"
      ],
      "metadata": {
        "colab": {
          "base_uri": "https://localhost:8080/"
        },
        "id": "MnkWM9V4haM7",
        "outputId": "c5ae6b5e-c886-4d6c-9884-f4d89bfba9f4"
      },
      "execution_count": null,
      "outputs": [
        {
          "output_type": "stream",
          "name": "stdout",
          "text": [
            "\n",
            "\u001b[1m Smoking Status Distribution: \u001b[0m\n",
            "Smoking Status\n",
            "Yes    601057\n",
            "No     597383\n",
            "Name: count, dtype: int64\n"
          ]
        }
      ]
    },
    {
      "cell_type": "code",
      "source": [
        "# 5 Previous Claims Count Distribution\n",
        "print(\"\\n\\033[1m Previous Claims Count: \\033[0m\")\n",
        "print(df['Previous Claims'].value_counts())"
      ],
      "metadata": {
        "colab": {
          "base_uri": "https://localhost:8080/"
        },
        "id": "dVKIy98RhbhB",
        "outputId": "00b5b50c-f0e1-4119-bba4-5b2bd0c74caa"
      },
      "execution_count": null,
      "outputs": [
        {
          "output_type": "stream",
          "name": "stdout",
          "text": [
            "\n",
            "\u001b[1m Previous Claims Count: \u001b[0m\n",
            "Previous Claims\n",
            "1.00    663368\n",
            "0.00    305385\n",
            "2.00    167631\n",
            "3.00     49003\n",
            "4.00     10668\n",
            "5.00      2016\n",
            "6.00       369\n",
            "Name: count, dtype: int64\n"
          ]
        }
      ]
    },
    {
      "cell_type": "code",
      "source": [
        "# 6 Previous Claims Count Distribution\n",
        "print(\"\\n\\033[1m Previous Claims Count: \\033[0m\")\n",
        "print(df['Exercise Frequency'].value_counts())"
      ],
      "metadata": {
        "colab": {
          "base_uri": "https://localhost:8080/"
        },
        "id": "aFQ57Oe4hdF5",
        "outputId": "cd6253e1-0126-4f17-b5f2-2888a3401505"
      },
      "execution_count": null,
      "outputs": [
        {
          "output_type": "stream",
          "name": "stdout",
          "text": [
            "\n",
            "\u001b[1m Previous Claims Count: \u001b[0m\n",
            "Exercise Frequency\n",
            "Weekly     305735\n",
            "Monthly    299454\n",
            "Rarely     299050\n",
            "Daily      294201\n",
            "Name: count, dtype: int64\n"
          ]
        }
      ]
    },
    {
      "cell_type": "markdown",
      "source": [
        "## **Data Analysis**"
      ],
      "metadata": {
        "id": "YrWWV4njvKNJ"
      }
    },
    {
      "cell_type": "markdown",
      "source": [
        "### **1.Older Age Groups Pay Higher Health Insurance Premiums**"
      ],
      "metadata": {
        "id": "ZM_J6gxxxPX8"
      }
    },
    {
      "cell_type": "code",
      "source": [
        "# Calculate average Premium Amount per Age Group\n",
        "age_premium_summary = df.groupby('Age Group')['Premium Amount'].agg(['count', 'mean', 'median'])\n",
        "\n",
        "# Display the results\n",
        "print(age_premium_summary)"
      ],
      "metadata": {
        "colab": {
          "base_uri": "https://localhost:8080/"
        },
        "id": "cBzqu7p0xUfH",
        "outputId": "54538947-a9eb-4a93-a73b-d5db9d89401d"
      },
      "execution_count": null,
      "outputs": [
        {
          "output_type": "stream",
          "name": "stdout",
          "text": [
            "            count     mean   median\n",
            "Age Group                          \n",
            "18-30      319083 15375.54 10718.00\n",
            "31-50      505676 16420.56 11247.49\n",
            "51+        373681 31080.88 23690.35\n"
          ]
        }
      ]
    },
    {
      "cell_type": "code",
      "source": [
        "age_premium_summary['mean'].plot(kind='bar', color=['#4E79A7', '#F28E2B', '#76B7B2'], figsize=(10, 7))\n",
        "\n",
        "# Labels and title\n",
        "plt.xlabel(\"Age Group\", fontsize=12)\n",
        "plt.ylabel(\"Average Premium Amount\", fontsize=12)\n",
        "plt.title(\"Average Premium Amount by Age Group\", fontsize=14)\n",
        "\n",
        "# Show values on bars\n",
        "for index, value in enumerate(age_premium_summary['mean']):\n",
        "    plt.text(index, value + 1000, f\"{value:.2f}\", ha='center', fontsize=11, fontweight='bold')\n",
        "\n",
        "# Show plot\n",
        "plt.show()\n"
      ],
      "metadata": {
        "colab": {
          "base_uri": "https://localhost:8080/",
          "height": 672
        },
        "id": "ChZcicGtyIHw",
        "outputId": "717caefa-a74f-4da7-b043-0bf793392b55"
      },
      "execution_count": null,
      "outputs": [
        {
          "output_type": "display_data",
          "data": {
            "text/plain": [
              "<Figure size 1000x700 with 1 Axes>"
            ],
            "image/png": "[encoded data removed]"
          },
          "metadata": {}
        }
      ]
    },
    {
      "cell_type": "markdown",
      "source": [
        "**Findings:**\n",
        "Premiums increase with age, with the 51+ group paying 2x more than the 18-30 group, based on median values.\n",
        "\n",
        "\n",
        "The 31-50 group holds the highest policy volume, making it a key segment for pricing adjustments.**so our hypothesis is true**"
      ],
      "metadata": {
        "id": "sSFt11iYzOOZ"
      }
    },
    {
      "cell_type": "markdown",
      "source": [
        "### **2.Health insurance premiums vary across locations due to differences in healthcare access and costs**"
      ],
      "metadata": {
        "id": "o-p0II4z0H7N"
      }
    },
    {
      "cell_type": "code",
      "source": [
        "# Calculate average Premium Amount per Location Tier\n",
        "location_premium_summary = df.groupby('Location')['Premium Amount'].agg(['count', 'mean', 'median'])\n",
        "\n",
        "# Display the results\n",
        "print(location_premium_summary)"
      ],
      "metadata": {
        "colab": {
          "base_uri": "https://localhost:8080/"
        },
        "id": "157F6I5C0GXR",
        "outputId": "0933a758-0b0f-4475-f399-0d57ac9170a4"
      },
      "execution_count": null,
      "outputs": [
        {
          "output_type": "stream",
          "name": "stdout",
          "text": [
            "           count     mean   median\n",
            "Location                          \n",
            "Tier-1    397001 20878.53 12756.78\n",
            "Tier-2    400416 20801.86 12952.51\n",
            "Tier-3    401023 20461.92 12915.80\n"
          ]
        }
      ]
    },
    {
      "cell_type": "code",
      "source": [
        "# Define a refined color palette (modern theme)\n",
        "colors = ['#4B71A5', '#F28E2B', '#76B7B2']\n",
        "\n",
        "# Plot the bar chart\n",
        "location_premium_summary['mean'].plot(kind='bar', color=colors, figsize=(10, 7), edgecolor='black')\n",
        "\n",
        "# Labels and title with padding\n",
        "plt.xlabel(\"Location\", fontsize=12, fontweight='bold')\n",
        "plt.ylabel(\"Average Premium Amount\", fontsize=12, fontweight='bold')\n",
        "plt.title(\"Average Premium Amount by Location\", fontsize=14, fontweight='bold', pad=30)  # Increased padding\n",
        "\n",
        "# Show values on bars\n",
        "for index, value in enumerate(location_premium_summary['mean']):\n",
        "    plt.text(index, value + 500, f\"{value:.2f}\", ha='center', fontsize=11, fontweight='bold')\n",
        "\n",
        "# Show plot\n",
        "plt.show()\n",
        "\n"
      ],
      "metadata": {
        "colab": {
          "base_uri": "https://localhost:8080/",
          "height": 705
        },
        "id": "XZsiKnS60MAe",
        "outputId": "e0f17f33-1848-401a-8047-f645964c510e"
      },
      "execution_count": null,
      "outputs": [
        {
          "output_type": "display_data",
          "data": {
            "text/plain": [
              "<Figure size 1000x700 with 1 Axes>"
            ],
            "image/png": "[encoded data removed]"
          },
          "metadata": {}
        }
      ]
    },
    {
      "cell_type": "markdown",
      "source": [
        "**Findings:** The average premium amount is relatively similar across Tier-1 (20,873.54), Tier-2 (20,799.85), and Tier-3 (20,459.86), showing minimal variation in location-based pricing.\n",
        "\n",
        "**Hypothesis Status:** Location influences health insurance premiums\" – Partially True"
      ],
      "metadata": {
        "id": "y0CUw25w2lot"
      }
    },
    {
      "cell_type": "markdown",
      "source": [
        "### **3.Policy Type Influences Health Insurance Premium Amounts**"
      ],
      "metadata": {
        "id": "H-82BkF-3CHA"
      }
    },
    {
      "cell_type": "code",
      "source": [
        "# Calculate average Premium Amount per Policy Type Tier\n",
        "Policy_Type_summary = df.groupby('Policy Type')['Premium Amount'].agg(['count', 'mean', 'median'])\n",
        "\n",
        "# Display the results\n",
        "print(Policy_Type_summary)"
      ],
      "metadata": {
        "colab": {
          "base_uri": "https://localhost:8080/"
        },
        "id": "nHtWy02r3GrG",
        "outputId": "f63b90f1-5eb7-4550-b743-c004f7a3446a"
      },
      "execution_count": null,
      "outputs": [
        {
          "output_type": "stream",
          "name": "stdout",
          "text": [
            "                count     mean   median\n",
            "Policy Type                            \n",
            "Basic          398008 19324.86 10825.14\n",
            "Comprehensive  399087 20251.81 11397.64\n",
            "Premium        401345 22549.71 12952.51\n"
          ]
        }
      ]
    },
    {
      "cell_type": "code",
      "source": [
        "Policy_Type_summary['mean'].plot(kind='bar', color=['#4B6A9B', '#F4A261', '#2A9D8F'], figsize=(10, 7))\n",
        "\n",
        "# Labels and title\n",
        "plt.xlabel(\"Policy Type\", fontsize=12)\n",
        "plt.ylabel(\"Average Premium Amount\", fontsize=12)\n",
        "plt.title(\"Average Premium Amount by Policy Type\", fontsize=14)\n",
        "\n",
        "# Show values on bars\n",
        "for index, value in enumerate(Policy_Type_summary['mean']):\n",
        "    plt.text(index, value + 1000, f\"{value:.2f}\", ha='center', fontsize=11, fontweight='bold')\n",
        "\n",
        "# Show plot\n",
        "plt.show()\n"
      ],
      "metadata": {
        "colab": {
          "base_uri": "https://localhost:8080/",
          "height": 740
        },
        "id": "_4HgwNuT3JAH",
        "outputId": "f2c2e6cb-939b-4198-cad6-f97760cc6815"
      },
      "execution_count": null,
      "outputs": [
        {
          "output_type": "display_data",
          "data": {
            "text/plain": [
              "<Figure size 1000x700 with 1 Axes>"
            ],
            "image/png": "[encoded data removed]"
          },
          "metadata": {}
        }
      ]
    },
    {
      "cell_type": "markdown",
      "source": [
        "**Findings:**Premium amounts increase with policy coverage, with Basic being the lowest (19,321.36) and Premium the highest (22,548.70).\n",
        "\n",
        "**Hypothesis Validation:**Hypothesis: \"Policy Type Influences Health Insurance Premium Amounts\" – TRUE"
      ],
      "metadata": {
        "id": "J86r9wUo3mbx"
      }
    },
    {
      "cell_type": "markdown",
      "source": [
        "### **4.Smokers tend to have higher insurance premiums compared to non-smokers.**"
      ],
      "metadata": {
        "id": "fPatYVD_4YFm"
      }
    },
    {
      "cell_type": "code",
      "source": [
        "smoking_premium_comparison = df.groupby(\"Smoking Status\")[\"Premium Amount\"].mean().reset_index()\n",
        "\n",
        "# Display results\n",
        "print(smoking_premium_comparison)"
      ],
      "metadata": {
        "colab": {
          "base_uri": "https://localhost:8080/"
        },
        "id": "LrsyquwA4bnd",
        "outputId": "86be5e51-56b5-4b67-bb8a-f16f7a0c90b8"
      },
      "execution_count": null,
      "outputs": [
        {
          "output_type": "stream",
          "name": "stdout",
          "text": [
            "  Smoking Status  Premium Amount\n",
            "0             No        19405.28\n",
            "1            Yes        22013.74\n"
          ]
        }
      ]
    },
    {
      "cell_type": "code",
      "source": [
        "smoking_premium_comparison = pd.DataFrame({\n",
        "    \"Smoking Status\": [\"No\", \"Yes\"],\n",
        "    \"Premium Amount\": [20182.85, 24006.33]\n",
        "})\n",
        "\n",
        "# Plot the bar chart\n",
        "plt.figure(figsize=(8, 5))\n",
        "sns.barplot(x=\"Smoking Status\", y=\"Premium Amount\", data=smoking_premium_comparison, palette=\"Blues\")\n",
        "\n",
        "# Labels and title\n",
        "plt.xlabel(\"Smoking Status\")\n",
        "plt.ylabel(\"Average Premium Amount\")\n",
        "plt.title(\"Impact of Smoking on Insurance Premiums\")\n",
        "plt.show()"
      ],
      "metadata": {
        "colab": {
          "base_uri": "https://localhost:8080/",
          "height": 574
        },
        "id": "2kH5VOmT4dXe",
        "outputId": "5a6a23d0-3946-4a8a-c6bd-c8027aee2fb1"
      },
      "execution_count": null,
      "outputs": [
        {
          "output_type": "stream",
          "name": "stderr",
          "text": [
            "<ipython-input-48-e7e12934dc1d>:8: FutureWarning: \n",
            "\n",
            "Passing `palette` without assigning `hue` is deprecated and will be removed in v0.14.0. Assign the `x` variable to `hue` and set `legend=False` for the same effect.\n",
            "\n",
            "  sns.barplot(x=\"Smoking Status\", y=\"Premium Amount\", data=smoking_premium_comparison, palette=\"Blues\")\n"
          ]
        },
        {
          "output_type": "display_data",
          "data": {
            "text/plain": [
              "<Figure size 800x500 with 1 Axes>"
            ],
            "image/png": "[encoded data removed]"
          },
          "metadata": {}
        }
      ]
    },
    {
      "cell_type": "markdown",
      "source": [
        "**Finding:** Smokers pay higher health insurance premiums (₹22,011.66) compared to non-smokers (₹19,401.32).\n",
        "\n",
        "**Hypothesis Status:** True Smoking status increases the premium amount."
      ],
      "metadata": {
        "id": "qOUQwmI96g3D"
      }
    },
    {
      "cell_type": "markdown",
      "source": [
        "### **5.Individuals who exercise more frequently (Daily/Weekly) tend to have lower health insurance premiums compared to those who exercise less frequently (Monthly/Rarely).**"
      ],
      "metadata": {
        "id": "lFC2oSA561yX"
      }
    },
    {
      "cell_type": "code",
      "source": [
        "# Group by Exercise Frequency and calculate mean Premium Amount\n",
        "exercise_premium = df.groupby(\"Exercise Frequency\")[\"Premium Amount\"].mean().reset_index()\n",
        "\n",
        "# Sort the categories in the expected order (Daily → Weekly → Monthly → Rarely)\n",
        "exercise_premium[\"Exercise Frequency\"] = pd.Categorical(exercise_premium[\"Exercise Frequency\"],\n",
        "                                                        categories=[\"Daily\", \"Weekly\", \"Monthly\", \"Rarely\"],\n",
        "                                                        ordered=True)\n",
        "exercise_premium = exercise_premium.sort_values(\"Exercise Frequency\")\n",
        "\n",
        "# Plot the data\n",
        "plt.figure(figsize=(8, 5))\n",
        "sns.barplot(x=\"Exercise Frequency\", y=\"Premium Amount\", data=exercise_premium, palette=\"viridis\")\n",
        "\n",
        "# Add labels and title\n",
        "plt.xlabel(\"Exercise Frequency\")\n",
        "plt.ylabel(\"Average Premium Amount\")\n",
        "plt.title(\"Impact of Exercise Frequency on Premium Amount\")\n",
        "plt.show()"
      ],
      "metadata": {
        "colab": {
          "base_uri": "https://localhost:8080/",
          "height": 574
        },
        "id": "exT2qdfV62VV",
        "outputId": "911d72c4-867e-4f98-a0b2-63e55bbd1c67"
      },
      "execution_count": null,
      "outputs": [
        {
          "output_type": "stream",
          "name": "stderr",
          "text": [
            "<ipython-input-49-51bfd71790d1>:12: FutureWarning: \n",
            "\n",
            "Passing `palette` without assigning `hue` is deprecated and will be removed in v0.14.0. Assign the `x` variable to `hue` and set `legend=False` for the same effect.\n",
            "\n",
            "  sns.barplot(x=\"Exercise Frequency\", y=\"Premium Amount\", data=exercise_premium, palette=\"viridis\")\n"
          ]
        },
        {
          "output_type": "display_data",
          "data": {
            "text/plain": [
              "<Figure size 800x500 with 1 Axes>"
            ],
            "image/png": "[encoded data removed]"
          },
          "metadata": {}
        }
      ]
    },
    {
      "cell_type": "code",
      "source": [
        "exercise_premium"
      ],
      "metadata": {
        "colab": {
          "base_uri": "https://localhost:8080/",
          "height": 175
        },
        "id": "SwBxwgUC7Gis",
        "outputId": "84aa294f-6596-4c38-e1aa-7fb23307d55e"
      },
      "execution_count": null,
      "outputs": [
        {
          "output_type": "execute_result",
          "data": {
            "text/plain": [
              "  Exercise Frequency  Premium Amount\n",
              "0              Daily        18960.46\n",
              "3             Weekly        18968.28\n",
              "1            Monthly        19879.45\n",
              "2             Rarely        25057.54"
            ],
            "text/html": [
              "\n",
              "  <div id=\"df-4ef6241a-c5d9-4142-845a-6f2263b0a7f8\" class=\"colab-df-container\">\n",
              "    <div>\n",
              "<style scoped>\n",
              "    .dataframe tbody tr th:only-of-type {\n",
              "        vertical-align: middle;\n",
              "    }\n",
              "\n",
              "    .dataframe tbody tr th {\n",
              "        vertical-align: top;\n",
              "    }\n",
              "\n",
              "    .dataframe thead th {\n",
              "        text-align: right;\n",
              "    }\n",
              "</style>\n",
              "<table border=\"1\" class=\"dataframe\">\n",
              "  <thead>\n",
              "    <tr style=\"text-align: right;\">\n",
              "      <th></th>\n",
              "      <th>Exercise Frequency</th>\n",
              "      <th>Premium Amount</th>\n",
              "    </tr>\n",
              "  </thead>\n",
              "  <tbody>\n",
              "    <tr>\n",
              "      <th>0</th>\n",
              "      <td>Daily</td>\n",
              "      <td>18960.46</td>\n",
              "    </tr>\n",
              "    <tr>\n",
              "      <th>3</th>\n",
              "      <td>Weekly</td>\n",
              "      <td>18968.28</td>\n",
              "    </tr>\n",
              "    <tr>\n",
              "      <th>1</th>\n",
              "      <td>Monthly</td>\n",
              "      <td>19879.45</td>\n",
              "    </tr>\n",
              "    <tr>\n",
              "      <th>2</th>\n",
              "      <td>Rarely</td>\n",
              "      <td>25057.54</td>\n",
              "    </tr>\n",
              "  </tbody>\n",
              "</table>\n",
              "</div>\n",
              "    <div class=\"colab-df-buttons\">\n",
              "\n",
              "  <div class=\"colab-df-container\">\n",
              "    <button class=\"colab-df-convert\" onclick=\"convertToInteractive('df-4ef6241a-c5d9-4142-845a-6f2263b0a7f8')\"\n",
              "            title=\"Convert this dataframe to an interactive table.\"\n",
              "            style=\"display:none;\">\n",
              "\n",
              "  <svg xmlns=\"http://www.w3.org/2000/svg\" height=\"24px\" viewBox=\"0 -960 960 960\">\n",
              "    <path d=\"M120-120v-720h720v720H120Zm60-500h600v-160H180v160Zm220 220h160v-160H400v160Zm0 220h160v-160H400v160ZM180-400h160v-160H180v160Zm440 0h160v-160H620v160ZM180-180h160v-160H180v160Zm440 0h160v-160H620v160Z\"/>\n",
              "  </svg>\n",
              "    </button>\n",
              "\n",
              "  <style>\n",
              "    .colab-df-container {\n",
              "      display:flex;\n",
              "      gap: 12px;\n",
              "    }\n",
              "\n",
              "    .colab-df-convert {\n",
              "      background-color: #E8F0FE;\n",
              "      border: none;\n",
              "      border-radius: 50%;\n",
              "      cursor: pointer;\n",
              "      display: none;\n",
              "      fill: #1967D2;\n",
              "      height: 32px;\n",
              "      padding: 0 0 0 0;\n",
              "      width: 32px;\n",
              "    }\n",
              "\n",
              "    .colab-df-convert:hover {\n",
              "      background-color: #E2EBFA;\n",
              "      box-shadow: 0px 1px 2px rgba(60, 64, 67, 0.3), 0px 1px 3px 1px rgba(60, 64, 67, 0.15);\n",
              "      fill: #174EA6;\n",
              "    }\n",
              "\n",
              "    .colab-df-buttons div {\n",
              "      margin-bottom: 4px;\n",
              "    }\n",
              "\n",
              "    [theme=dark] .colab-df-convert {\n",
              "      background-color: #3B4455;\n",
              "      fill: #D2E3FC;\n",
              "    }\n",
              "\n",
              "    [theme=dark] .colab-df-convert:hover {\n",
              "      background-color: #434B5C;\n",
              "      box-shadow: 0px 1px 3px 1px rgba(0, 0, 0, 0.15);\n",
              "      filter: drop-shadow(0px 1px 2px rgba(0, 0, 0, 0.3));\n",
              "      fill: #FFFFFF;\n",
              "    }\n",
              "  </style>\n",
              "\n",
              "    <script>\n",
              "      const buttonEl =\n",
              "        document.querySelector('#df-4ef6241a-c5d9-4142-845a-6f2263b0a7f8 button.colab-df-convert');\n",
              "      buttonEl.style.display =\n",
              "        google.colab.kernel.accessAllowed ? 'block' : 'none';\n",
              "\n",
              "      async function convertToInteractive(key) {\n",
              "        const element = document.querySelector('#df-4ef6241a-c5d9-4142-845a-6f2263b0a7f8');\n",
              "        const dataTable =\n",
              "          await google.colab.kernel.invokeFunction('convertToInteractive',\n",
              "                                                    [key], {});\n",
              "        if (!dataTable) return;\n",
              "\n",
              "        const docLinkHtml = 'Like what you see? Visit the ' +\n",
              "          '<a target=\"_blank\" href=https://colab.research.google.com/notebooks/data_table.ipynb>data table notebook</a>'\n",
              "          + ' to learn more about interactive tables.';\n",
              "        element.innerHTML = '';\n",
              "        dataTable['output_type'] = 'display_data';\n",
              "        await google.colab.output.renderOutput(dataTable, element);\n",
              "        const docLink = document.createElement('div');\n",
              "        docLink.innerHTML = docLinkHtml;\n",
              "        element.appendChild(docLink);\n",
              "      }\n",
              "    </script>\n",
              "  </div>\n",
              "\n",
              "\n",
              "<div id=\"df-56c1fc01-f8b2-408e-a0cd-b476142f12cd\">\n",
              "  <button class=\"colab-df-quickchart\" onclick=\"quickchart('df-56c1fc01-f8b2-408e-a0cd-b476142f12cd')\"\n",
              "            title=\"Suggest charts\"\n",
              "            style=\"display:none;\">\n",
              "\n",
              "<svg xmlns=\"http://www.w3.org/2000/svg\" height=\"24px\"viewBox=\"0 0 24 24\"\n",
              "     width=\"24px\">\n",
              "    <g>\n",
              "        <path d=\"M19 3H5c-1.1 0-2 .9-2 2v14c0 1.1.9 2 2 2h14c1.1 0 2-.9 2-2V5c0-1.1-.9-2-2-2zM9 17H7v-7h2v7zm4 0h-2V7h2v10zm4 0h-2v-4h2v4z\"/>\n",
              "    </g>\n",
              "</svg>\n",
              "  </button>\n",
              "\n",
              "<style>\n",
              "  .colab-df-quickchart {\n",
              "      --bg-color: #E8F0FE;\n",
              "      --fill-color: #1967D2;\n",
              "      --hover-bg-color: #E2EBFA;\n",
              "      --hover-fill-color: #174EA6;\n",
              "      --disabled-fill-color: #AAA;\n",
              "      --disabled-bg-color: #DDD;\n",
              "  }\n",
              "\n",
              "  [theme=dark] .colab-df-quickchart {\n",
              "      --bg-color: #3B4455;\n",
              "      --fill-color: #D2E3FC;\n",
              "      --hover-bg-color: #434B5C;\n",
              "      --hover-fill-color: #FFFFFF;\n",
              "      --disabled-bg-color: #3B4455;\n",
              "      --disabled-fill-color: #666;\n",
              "  }\n",
              "\n",
              "  .colab-df-quickchart {\n",
              "    background-color: var(--bg-color);\n",
              "    border: none;\n",
              "    border-radius: 50%;\n",
              "    cursor: pointer;\n",
              "    display: none;\n",
              "    fill: var(--fill-color);\n",
              "    height: 32px;\n",
              "    padding: 0;\n",
              "    width: 32px;\n",
              "  }\n",
              "\n",
              "  .colab-df-quickchart:hover {\n",
              "    background-color: var(--hover-bg-color);\n",
              "    box-shadow: 0 1px 2px rgba(60, 64, 67, 0.3), 0 1px 3px 1px rgba(60, 64, 67, 0.15);\n",
              "    fill: var(--button-hover-fill-color);\n",
              "  }\n",
              "\n",
              "  .colab-df-quickchart-complete:disabled,\n",
              "  .colab-df-quickchart-complete:disabled:hover {\n",
              "    background-color: var(--disabled-bg-color);\n",
              "    fill: var(--disabled-fill-color);\n",
              "    box-shadow: none;\n",
              "  }\n",
              "\n",
              "  .colab-df-spinner {\n",
              "    border: 2px solid var(--fill-color);\n",
              "    border-color: transparent;\n",
              "    border-bottom-color: var(--fill-color);\n",
              "    animation:\n",
              "      spin 1s steps(1) infinite;\n",
              "  }\n",
              "\n",
              "  @keyframes spin {\n",
              "    0% {\n",
              "      border-color: transparent;\n",
              "      border-bottom-color: var(--fill-color);\n",
              "      border-left-color: var(--fill-color);\n",
              "    }\n",
              "    20% {\n",
              "      border-color: transparent;\n",
              "      border-left-color: var(--fill-color);\n",
              "      border-top-color: var(--fill-color);\n",
              "    }\n",
              "    30% {\n",
              "      border-color: transparent;\n",
              "      border-left-color: var(--fill-color);\n",
              "      border-top-color: var(--fill-color);\n",
              "      border-right-color: var(--fill-color);\n",
              "    }\n",
              "    40% {\n",
              "      border-color: transparent;\n",
              "      border-right-color: var(--fill-color);\n",
              "      border-top-color: var(--fill-color);\n",
              "    }\n",
              "    60% {\n",
              "      border-color: transparent;\n",
              "      border-right-color: var(--fill-color);\n",
              "    }\n",
              "    80% {\n",
              "      border-color: transparent;\n",
              "      border-right-color: var(--fill-color);\n",
              "      border-bottom-color: var(--fill-color);\n",
              "    }\n",
              "    90% {\n",
              "      border-color: transparent;\n",
              "      border-bottom-color: var(--fill-color);\n",
              "    }\n",
              "  }\n",
              "</style>\n",
              "\n",
              "  <script>\n",
              "    async function quickchart(key) {\n",
              "      const quickchartButtonEl =\n",
              "        document.querySelector('#' + key + ' button');\n",
              "      quickchartButtonEl.disabled = true;  // To prevent multiple clicks.\n",
              "      quickchartButtonEl.classList.add('colab-df-spinner');\n",
              "      try {\n",
              "        const charts = await google.colab.kernel.invokeFunction(\n",
              "            'suggestCharts', [key], {});\n",
              "      } catch (error) {\n",
              "        console.error('Error during call to suggestCharts:', error);\n",
              "      }\n",
              "      quickchartButtonEl.classList.remove('colab-df-spinner');\n",
              "      quickchartButtonEl.classList.add('colab-df-quickchart-complete');\n",
              "    }\n",
              "    (() => {\n",
              "      let quickchartButtonEl =\n",
              "        document.querySelector('#df-56c1fc01-f8b2-408e-a0cd-b476142f12cd button');\n",
              "      quickchartButtonEl.style.display =\n",
              "        google.colab.kernel.accessAllowed ? 'block' : 'none';\n",
              "    })();\n",
              "  </script>\n",
              "</div>\n",
              "\n",
              "  <div id=\"id_c4ad08f6-2988-408e-87a2-81ae5c67ee4c\">\n",
              "    <style>\n",
              "      .colab-df-generate {\n",
              "        background-color: #E8F0FE;\n",
              "        border: none;\n",
              "        border-radius: 50%;\n",
              "        cursor: pointer;\n",
              "        display: none;\n",
              "        fill: #1967D2;\n",
              "        height: 32px;\n",
              "        padding: 0 0 0 0;\n",
              "        width: 32px;\n",
              "      }\n",
              "\n",
              "      .colab-df-generate:hover {\n",
              "        background-color: #E2EBFA;\n",
              "        box-shadow: 0px 1px 2px rgba(60, 64, 67, 0.3), 0px 1px 3px 1px rgba(60, 64, 67, 0.15);\n",
              "        fill: #174EA6;\n",
              "      }\n",
              "\n",
              "      [theme=dark] .colab-df-generate {\n",
              "        background-color: #3B4455;\n",
              "        fill: #D2E3FC;\n",
              "      }\n",
              "\n",
              "      [theme=dark] .colab-df-generate:hover {\n",
              "        background-color: #434B5C;\n",
              "        box-shadow: 0px 1px 3px 1px rgba(0, 0, 0, 0.15);\n",
              "        filter: drop-shadow(0px 1px 2px rgba(0, 0, 0, 0.3));\n",
              "        fill: #FFFFFF;\n",
              "      }\n",
              "    </style>\n",
              "    <button class=\"colab-df-generate\" onclick=\"generateWithVariable('exercise_premium')\"\n",
              "            title=\"Generate code using this dataframe.\"\n",
              "            style=\"display:none;\">\n",
              "\n",
              "  <svg xmlns=\"http://www.w3.org/2000/svg\" height=\"24px\"viewBox=\"0 0 24 24\"\n",
              "       width=\"24px\">\n",
              "    <path d=\"M7,19H8.4L18.45,9,17,7.55,7,17.6ZM5,21V16.75L18.45,3.32a2,2,0,0,1,2.83,0l1.4,1.43a1.91,1.91,0,0,1,.58,1.4,1.91,1.91,0,0,1-.58,1.4L9.25,21ZM18.45,9,17,7.55Zm-12,3A5.31,5.31,0,0,0,4.9,8.1,5.31,5.31,0,0,0,1,6.5,5.31,5.31,0,0,0,4.9,4.9,5.31,5.31,0,0,0,6.5,1,5.31,5.31,0,0,0,8.1,4.9,5.31,5.31,0,0,0,12,6.5,5.46,5.46,0,0,0,6.5,12Z\"/>\n",
              "  </svg>\n",
              "    </button>\n",
              "    <script>\n",
              "      (() => {\n",
              "      const buttonEl =\n",
              "        document.querySelector('#id_c4ad08f6-2988-408e-87a2-81ae5c67ee4c button.colab-df-generate');\n",
              "      buttonEl.style.display =\n",
              "        google.colab.kernel.accessAllowed ? 'block' : 'none';\n",
              "\n",
              "      buttonEl.onclick = () => {\n",
              "        google.colab.notebook.generateWithVariable('exercise_premium');\n",
              "      }\n",
              "      })();\n",
              "    </script>\n",
              "  </div>\n",
              "\n",
              "    </div>\n",
              "  </div>\n"
            ],
            "application/vnd.google.colaboratory.intrinsic+json": {
              "type": "dataframe",
              "variable_name": "exercise_premium",
              "summary": "{\n  \"name\": \"exercise_premium\",\n  \"rows\": 4,\n  \"fields\": [\n    {\n      \"column\": \"Exercise Frequency\",\n      \"properties\": {\n        \"dtype\": \"category\",\n        \"num_unique_values\": 4,\n        \"samples\": [\n          \"Weekly\",\n          \"Rarely\",\n          \"Daily\"\n        ],\n        \"semantic_type\": \"\",\n        \"description\": \"\"\n      }\n    },\n    {\n      \"column\": \"Premium Amount\",\n      \"properties\": {\n        \"dtype\": \"number\",\n        \"std\": 2926.0463971054805,\n        \"min\": 18960.461283283028,\n        \"max\": 25057.543060602642,\n        \"num_unique_values\": 4,\n        \"samples\": [\n          18968.28084546986,\n          25057.543060602642,\n          18960.461283283028\n        ],\n        \"semantic_type\": \"\",\n        \"description\": \"\"\n      }\n    }\n  ]\n}"
            }
          },
          "metadata": {},
          "execution_count": 50
        }
      ]
    },
    {
      "cell_type": "markdown",
      "source": [
        "**Findings:**\n",
        "Individuals who exercise less frequently (Monthly or Rarely) have higher average health insurance premiums, with the \"Rarely\" group paying the most.\n",
        "\n",
        "**Hypothesis Status:**\n",
        "True – More frequent exercise (Daily/Weekly) is associated with lower health insurance premiums."
      ],
      "metadata": {
        "id": "X2z2GK-x7cuy"
      }
    },
    {
      "cell_type": "markdown",
      "source": [
        "### **6.Higher the Health Score, higher the Premium Amount.**"
      ],
      "metadata": {
        "id": "4lLW1Hk_73rl"
      }
    },
    {
      "cell_type": "code",
      "source": [
        "df1 = df\n",
        "health_premium_analysis = df1.groupby(\"Health Score Category\")[\"Premium Amount\"].mean().reset_index()\n",
        "\n",
        "# Display results\n",
        "print(health_premium_analysis)"
      ],
      "metadata": {
        "colab": {
          "base_uri": "https://localhost:8080/"
        },
        "id": "JrXR_i9f78wM",
        "outputId": "34b5dfa6-34cb-452f-ce5e-be1eafa52e58"
      },
      "execution_count": null,
      "outputs": [
        {
          "output_type": "stream",
          "name": "stdout",
          "text": [
            "  Health Score Category  Premium Amount\n",
            "0                  High        22530.12\n",
            "1                   Low        17419.91\n",
            "2                Medium        20672.94\n"
          ]
        }
      ]
    },
    {
      "cell_type": "code",
      "source": [
        "# Set plot style and size\n",
        "plt.figure(figsize=(8, 6))\n",
        "sns.set_style(\"whitegrid\")\n",
        "\n",
        "# Create bar plot using health_premium_analysis\n",
        "sns.barplot(x=\"Health Score Category\", y=\"Premium Amount\", hue=\"Health Score Category\", data=health_premium_analysis, palette=\"crest\", legend=False)\n",
        "\n",
        "# Add labels and title\n",
        "plt.xlabel(\"Health Score Category\", fontsize=12)\n",
        "plt.ylabel(\"Average Premium Amount\", fontsize=12)\n",
        "plt.title(\"Average Premium Amount by Health Score Category\", fontsize=14)\n",
        "\n",
        "# Display values on each bar\n",
        "for index, value in enumerate(health_premium_analysis[\"Premium Amount\"]):\n",
        "    plt.text(index, value + 500, f\"{value:.2f}\", ha='center', fontsize=11, fontweight='bold')\n",
        "\n",
        "plt.show()\n",
        "\n"
      ],
      "metadata": {
        "colab": {
          "base_uri": "https://localhost:8080/",
          "height": 569
        },
        "id": "_w_aGZL47_Q3",
        "outputId": "580fcb6d-589f-4810-f9fc-801ba243f24c"
      },
      "execution_count": null,
      "outputs": [
        {
          "output_type": "display_data",
          "data": {
            "text/plain": [
              "<Figure size 800x600 with 1 Axes>"
            ],
            "image/png": "[encoded data removed]"
          },
          "metadata": {}
        }
      ]
    },
    {
      "cell_type": "markdown",
      "source": [
        "**Finding:** As meantion in data lower the health score means more fit, we find that lower the health score also have lower average premium price and higher the health score higher the average premium price.\n",
        "\n",
        "**Hypothesis Status:** Higher the Health Score, higher the Premium Amount."
      ],
      "metadata": {
        "id": "zZJKYvrF9Y3N"
      }
    },
    {
      "cell_type": "markdown",
      "source": [
        "### **7.Higher Previous Claims Lead to Increased Premium Prices.**"
      ],
      "metadata": {
        "id": "qMcAbj3QDD-z"
      }
    },
    {
      "cell_type": "code",
      "source": [
        "# Group by Previous Claims and calculate average premium\n",
        "df_grouped = df.groupby(\"Previous Claims\")[\"Premium Amount\"].mean().reset_index()\n",
        "\n",
        "# Convert Previous Claims to categorical if it's numeric\n",
        "df_grouped[\"Previous Claims\"] = df_grouped[\"Previous Claims\"].astype(str)\n",
        "\n",
        "# Barplot for visualization\n",
        "plt.figure(figsize=(8, 5))\n",
        "sns.barplot(x=df_grouped[\"Previous Claims\"], y=df_grouped[\"Premium Amount\"], palette=\"viridis\")\n",
        "plt.xlabel(\"Previous Claims\")\n",
        "plt.ylabel(\"Average Premium Amount\")\n",
        "plt.title(\"Impact of Previous Claims on Premium Amount\")\n",
        "plt.show()\n",
        "\n",
        "df_grouped"
      ],
      "metadata": {
        "colab": {
          "base_uri": "https://localhost:8080/",
          "height": 826
        },
        "id": "4Oa6Q16r9xHT",
        "outputId": "6a6f8c28-2ad8-4e1d-dc5e-8a39972437ac"
      },
      "execution_count": null,
      "outputs": [
        {
          "output_type": "stream",
          "name": "stderr",
          "text": [
            "<ipython-input-53-6a6d2f53920a>:9: FutureWarning: \n",
            "\n",
            "Passing `palette` without assigning `hue` is deprecated and will be removed in v0.14.0. Assign the `x` variable to `hue` and set `legend=False` for the same effect.\n",
            "\n",
            "  sns.barplot(x=df_grouped[\"Previous Claims\"], y=df_grouped[\"Premium Amount\"], palette=\"viridis\")\n"
          ]
        },
        {
          "output_type": "display_data",
          "data": {
            "text/plain": [
              "<Figure size 800x500 with 1 Axes>"
            ],
            "image/png": "[encoded data removed]"
          },
          "metadata": {}
        },
        {
          "output_type": "execute_result",
          "data": {
            "text/plain": [
              "  Previous Claims  Premium Amount\n",
              "0             0.0        23097.32\n",
              "1             1.0        18835.50\n",
              "2             2.0        22888.42\n",
              "3             3.0        23065.29\n",
              "4             4.0        23487.99\n",
              "5             5.0        24176.75\n",
              "6             6.0        24572.97"
            ],
            "text/html": [
              "\n",
              "  <div id=\"df-04a2bbe9-c5b2-4680-93d0-dd5a9a4a5c35\" class=\"colab-df-container\">\n",
              "    <div>\n",
              "<style scoped>\n",
              "    .dataframe tbody tr th:only-of-type {\n",
              "        vertical-align: middle;\n",
              "    }\n",
              "\n",
              "    .dataframe tbody tr th {\n",
              "        vertical-align: top;\n",
              "    }\n",
              "\n",
              "    .dataframe thead th {\n",
              "        text-align: right;\n",
              "    }\n",
              "</style>\n",
              "<table border=\"1\" class=\"dataframe\">\n",
              "  <thead>\n",
              "    <tr style=\"text-align: right;\">\n",
              "      <th></th>\n",
              "      <th>Previous Claims</th>\n",
              "      <th>Premium Amount</th>\n",
              "    </tr>\n",
              "  </thead>\n",
              "  <tbody>\n",
              "    <tr>\n",
              "      <th>0</th>\n",
              "      <td>0.0</td>\n",
              "      <td>23097.32</td>\n",
              "    </tr>\n",
              "    <tr>\n",
              "      <th>1</th>\n",
              "      <td>1.0</td>\n",
              "      <td>18835.50</td>\n",
              "    </tr>\n",
              "    <tr>\n",
              "      <th>2</th>\n",
              "      <td>2.0</td>\n",
              "      <td>22888.42</td>\n",
              "    </tr>\n",
              "    <tr>\n",
              "      <th>3</th>\n",
              "      <td>3.0</td>\n",
              "      <td>23065.29</td>\n",
              "    </tr>\n",
              "    <tr>\n",
              "      <th>4</th>\n",
              "      <td>4.0</td>\n",
              "      <td>23487.99</td>\n",
              "    </tr>\n",
              "    <tr>\n",
              "      <th>5</th>\n",
              "      <td>5.0</td>\n",
              "      <td>24176.75</td>\n",
              "    </tr>\n",
              "    <tr>\n",
              "      <th>6</th>\n",
              "      <td>6.0</td>\n",
              "      <td>24572.97</td>\n",
              "    </tr>\n",
              "  </tbody>\n",
              "</table>\n",
              "</div>\n",
              "    <div class=\"colab-df-buttons\">\n",
              "\n",
              "  <div class=\"colab-df-container\">\n",
              "    <button class=\"colab-df-convert\" onclick=\"convertToInteractive('df-04a2bbe9-c5b2-4680-93d0-dd5a9a4a5c35')\"\n",
              "            title=\"Convert this dataframe to an interactive table.\"\n",
              "            style=\"display:none;\">\n",
              "\n",
              "  <svg xmlns=\"http://www.w3.org/2000/svg\" height=\"24px\" viewBox=\"0 -960 960 960\">\n",
              "    <path d=\"M120-120v-720h720v720H120Zm60-500h600v-160H180v160Zm220 220h160v-160H400v160Zm0 220h160v-160H400v160ZM180-400h160v-160H180v160Zm440 0h160v-160H620v160ZM180-180h160v-160H180v160Zm440 0h160v-160H620v160Z\"/>\n",
              "  </svg>\n",
              "    </button>\n",
              "\n",
              "  <style>\n",
              "    .colab-df-container {\n",
              "      display:flex;\n",
              "      gap: 12px;\n",
              "    }\n",
              "\n",
              "    .colab-df-convert {\n",
              "      background-color: #E8F0FE;\n",
              "      border: none;\n",
              "      border-radius: 50%;\n",
              "      cursor: pointer;\n",
              "      display: none;\n",
              "      fill: #1967D2;\n",
              "      height: 32px;\n",
              "      padding: 0 0 0 0;\n",
              "      width: 32px;\n",
              "    }\n",
              "\n",
              "    .colab-df-convert:hover {\n",
              "      background-color: #E2EBFA;\n",
              "      box-shadow: 0px 1px 2px rgba(60, 64, 67, 0.3), 0px 1px 3px 1px rgba(60, 64, 67, 0.15);\n",
              "      fill: #174EA6;\n",
              "    }\n",
              "\n",
              "    .colab-df-buttons div {\n",
              "      margin-bottom: 4px;\n",
              "    }\n",
              "\n",
              "    [theme=dark] .colab-df-convert {\n",
              "      background-color: #3B4455;\n",
              "      fill: #D2E3FC;\n",
              "    }\n",
              "\n",
              "    [theme=dark] .colab-df-convert:hover {\n",
              "      background-color: #434B5C;\n",
              "      box-shadow: 0px 1px 3px 1px rgba(0, 0, 0, 0.15);\n",
              "      filter: drop-shadow(0px 1px 2px rgba(0, 0, 0, 0.3));\n",
              "      fill: #FFFFFF;\n",
              "    }\n",
              "  </style>\n",
              "\n",
              "    <script>\n",
              "      const buttonEl =\n",
              "        document.querySelector('#df-04a2bbe9-c5b2-4680-93d0-dd5a9a4a5c35 button.colab-df-convert');\n",
              "      buttonEl.style.display =\n",
              "        google.colab.kernel.accessAllowed ? 'block' : 'none';\n",
              "\n",
              "      async function convertToInteractive(key) {\n",
              "        const element = document.querySelector('#df-04a2bbe9-c5b2-4680-93d0-dd5a9a4a5c35');\n",
              "        const dataTable =\n",
              "          await google.colab.kernel.invokeFunction('convertToInteractive',\n",
              "                                                    [key], {});\n",
              "        if (!dataTable) return;\n",
              "\n",
              "        const docLinkHtml = 'Like what you see? Visit the ' +\n",
              "          '<a target=\"_blank\" href=https://colab.research.google.com/notebooks/data_table.ipynb>data table notebook</a>'\n",
              "          + ' to learn more about interactive tables.';\n",
              "        element.innerHTML = '';\n",
              "        dataTable['output_type'] = 'display_data';\n",
              "        await google.colab.output.renderOutput(dataTable, element);\n",
              "        const docLink = document.createElement('div');\n",
              "        docLink.innerHTML = docLinkHtml;\n",
              "        element.appendChild(docLink);\n",
              "      }\n",
              "    </script>\n",
              "  </div>\n",
              "\n",
              "\n",
              "<div id=\"df-aae83ce4-4cfe-440c-a70d-20a9bd4d936f\">\n",
              "  <button class=\"colab-df-quickchart\" onclick=\"quickchart('df-aae83ce4-4cfe-440c-a70d-20a9bd4d936f')\"\n",
              "            title=\"Suggest charts\"\n",
              "            style=\"display:none;\">\n",
              "\n",
              "<svg xmlns=\"http://www.w3.org/2000/svg\" height=\"24px\"viewBox=\"0 0 24 24\"\n",
              "     width=\"24px\">\n",
              "    <g>\n",
              "        <path d=\"M19 3H5c-1.1 0-2 .9-2 2v14c0 1.1.9 2 2 2h14c1.1 0 2-.9 2-2V5c0-1.1-.9-2-2-2zM9 17H7v-7h2v7zm4 0h-2V7h2v10zm4 0h-2v-4h2v4z\"/>\n",
              "    </g>\n",
              "</svg>\n",
              "  </button>\n",
              "\n",
              "<style>\n",
              "  .colab-df-quickchart {\n",
              "      --bg-color: #E8F0FE;\n",
              "      --fill-color: #1967D2;\n",
              "      --hover-bg-color: #E2EBFA;\n",
              "      --hover-fill-color: #174EA6;\n",
              "      --disabled-fill-color: #AAA;\n",
              "      --disabled-bg-color: #DDD;\n",
              "  }\n",
              "\n",
              "  [theme=dark] .colab-df-quickchart {\n",
              "      --bg-color: #3B4455;\n",
              "      --fill-color: #D2E3FC;\n",
              "      --hover-bg-color: #434B5C;\n",
              "      --hover-fill-color: #FFFFFF;\n",
              "      --disabled-bg-color: #3B4455;\n",
              "      --disabled-fill-color: #666;\n",
              "  }\n",
              "\n",
              "  .colab-df-quickchart {\n",
              "    background-color: var(--bg-color);\n",
              "    border: none;\n",
              "    border-radius: 50%;\n",
              "    cursor: pointer;\n",
              "    display: none;\n",
              "    fill: var(--fill-color);\n",
              "    height: 32px;\n",
              "    padding: 0;\n",
              "    width: 32px;\n",
              "  }\n",
              "\n",
              "  .colab-df-quickchart:hover {\n",
              "    background-color: var(--hover-bg-color);\n",
              "    box-shadow: 0 1px 2px rgba(60, 64, 67, 0.3), 0 1px 3px 1px rgba(60, 64, 67, 0.15);\n",
              "    fill: var(--button-hover-fill-color);\n",
              "  }\n",
              "\n",
              "  .colab-df-quickchart-complete:disabled,\n",
              "  .colab-df-quickchart-complete:disabled:hover {\n",
              "    background-color: var(--disabled-bg-color);\n",
              "    fill: var(--disabled-fill-color);\n",
              "    box-shadow: none;\n",
              "  }\n",
              "\n",
              "  .colab-df-spinner {\n",
              "    border: 2px solid var(--fill-color);\n",
              "    border-color: transparent;\n",
              "    border-bottom-color: var(--fill-color);\n",
              "    animation:\n",
              "      spin 1s steps(1) infinite;\n",
              "  }\n",
              "\n",
              "  @keyframes spin {\n",
              "    0% {\n",
              "      border-color: transparent;\n",
              "      border-bottom-color: var(--fill-color);\n",
              "      border-left-color: var(--fill-color);\n",
              "    }\n",
              "    20% {\n",
              "      border-color: transparent;\n",
              "      border-left-color: var(--fill-color);\n",
              "      border-top-color: var(--fill-color);\n",
              "    }\n",
              "    30% {\n",
              "      border-color: transparent;\n",
              "      border-left-color: var(--fill-color);\n",
              "      border-top-color: var(--fill-color);\n",
              "      border-right-color: var(--fill-color);\n",
              "    }\n",
              "    40% {\n",
              "      border-color: transparent;\n",
              "      border-right-color: var(--fill-color);\n",
              "      border-top-color: var(--fill-color);\n",
              "    }\n",
              "    60% {\n",
              "      border-color: transparent;\n",
              "      border-right-color: var(--fill-color);\n",
              "    }\n",
              "    80% {\n",
              "      border-color: transparent;\n",
              "      border-right-color: var(--fill-color);\n",
              "      border-bottom-color: var(--fill-color);\n",
              "    }\n",
              "    90% {\n",
              "      border-color: transparent;\n",
              "      border-bottom-color: var(--fill-color);\n",
              "    }\n",
              "  }\n",
              "</style>\n",
              "\n",
              "  <script>\n",
              "    async function quickchart(key) {\n",
              "      const quickchartButtonEl =\n",
              "        document.querySelector('#' + key + ' button');\n",
              "      quickchartButtonEl.disabled = true;  // To prevent multiple clicks.\n",
              "      quickchartButtonEl.classList.add('colab-df-spinner');\n",
              "      try {\n",
              "        const charts = await google.colab.kernel.invokeFunction(\n",
              "            'suggestCharts', [key], {});\n",
              "      } catch (error) {\n",
              "        console.error('Error during call to suggestCharts:', error);\n",
              "      }\n",
              "      quickchartButtonEl.classList.remove('colab-df-spinner');\n",
              "      quickchartButtonEl.classList.add('colab-df-quickchart-complete');\n",
              "    }\n",
              "    (() => {\n",
              "      let quickchartButtonEl =\n",
              "        document.querySelector('#df-aae83ce4-4cfe-440c-a70d-20a9bd4d936f button');\n",
              "      quickchartButtonEl.style.display =\n",
              "        google.colab.kernel.accessAllowed ? 'block' : 'none';\n",
              "    })();\n",
              "  </script>\n",
              "</div>\n",
              "\n",
              "  <div id=\"id_b8cf4997-9311-4e29-b6c9-85828f1171e0\">\n",
              "    <style>\n",
              "      .colab-df-generate {\n",
              "        background-color: #E8F0FE;\n",
              "        border: none;\n",
              "        border-radius: 50%;\n",
              "        cursor: pointer;\n",
              "        display: none;\n",
              "        fill: #1967D2;\n",
              "        height: 32px;\n",
              "        padding: 0 0 0 0;\n",
              "        width: 32px;\n",
              "      }\n",
              "\n",
              "      .colab-df-generate:hover {\n",
              "        background-color: #E2EBFA;\n",
              "        box-shadow: 0px 1px 2px rgba(60, 64, 67, 0.3), 0px 1px 3px 1px rgba(60, 64, 67, 0.15);\n",
              "        fill: #174EA6;\n",
              "      }\n",
              "\n",
              "      [theme=dark] .colab-df-generate {\n",
              "        background-color: #3B4455;\n",
              "        fill: #D2E3FC;\n",
              "      }\n",
              "\n",
              "      [theme=dark] .colab-df-generate:hover {\n",
              "        background-color: #434B5C;\n",
              "        box-shadow: 0px 1px 3px 1px rgba(0, 0, 0, 0.15);\n",
              "        filter: drop-shadow(0px 1px 2px rgba(0, 0, 0, 0.3));\n",
              "        fill: #FFFFFF;\n",
              "      }\n",
              "    </style>\n",
              "    <button class=\"colab-df-generate\" onclick=\"generateWithVariable('df_grouped')\"\n",
              "            title=\"Generate code using this dataframe.\"\n",
              "            style=\"display:none;\">\n",
              "\n",
              "  <svg xmlns=\"http://www.w3.org/2000/svg\" height=\"24px\"viewBox=\"0 0 24 24\"\n",
              "       width=\"24px\">\n",
              "    <path d=\"M7,19H8.4L18.45,9,17,7.55,7,17.6ZM5,21V16.75L18.45,3.32a2,2,0,0,1,2.83,0l1.4,1.43a1.91,1.91,0,0,1,.58,1.4,1.91,1.91,0,0,1-.58,1.4L9.25,21ZM18.45,9,17,7.55Zm-12,3A5.31,5.31,0,0,0,4.9,8.1,5.31,5.31,0,0,0,1,6.5,5.31,5.31,0,0,0,4.9,4.9,5.31,5.31,0,0,0,6.5,1,5.31,5.31,0,0,0,8.1,4.9,5.31,5.31,0,0,0,12,6.5,5.46,5.46,0,0,0,6.5,12Z\"/>\n",
              "  </svg>\n",
              "    </button>\n",
              "    <script>\n",
              "      (() => {\n",
              "      const buttonEl =\n",
              "        document.querySelector('#id_b8cf4997-9311-4e29-b6c9-85828f1171e0 button.colab-df-generate');\n",
              "      buttonEl.style.display =\n",
              "        google.colab.kernel.accessAllowed ? 'block' : 'none';\n",
              "\n",
              "      buttonEl.onclick = () => {\n",
              "        google.colab.notebook.generateWithVariable('df_grouped');\n",
              "      }\n",
              "      })();\n",
              "    </script>\n",
              "  </div>\n",
              "\n",
              "    </div>\n",
              "  </div>\n"
            ],
            "application/vnd.google.colaboratory.intrinsic+json": {
              "type": "dataframe",
              "variable_name": "df_grouped",
              "summary": "{\n  \"name\": \"df_grouped\",\n  \"rows\": 7,\n  \"fields\": [\n    {\n      \"column\": \"Previous Claims\",\n      \"properties\": {\n        \"dtype\": \"string\",\n        \"num_unique_values\": 7,\n        \"samples\": [\n          \"0.0\",\n          \"1.0\",\n          \"5.0\"\n        ],\n        \"semantic_type\": \"\",\n        \"description\": \"\"\n      }\n    },\n    {\n      \"column\": \"Premium Amount\",\n      \"properties\": {\n        \"dtype\": \"number\",\n        \"std\": 1886.6564549611921,\n        \"min\": 18835.49607831516,\n        \"max\": 24572.972508398594,\n        \"num_unique_values\": 7,\n        \"samples\": [\n          23097.316131904096,\n          18835.49607831516,\n          24176.75496537023\n        ],\n        \"semantic_type\": \"\",\n        \"description\": \"\"\n      }\n    }\n  ]\n}"
            }
          },
          "metadata": {},
          "execution_count": 53
        }
      ]
    },
    {
      "cell_type": "markdown",
      "source": [
        "**Finding:**Premium amounts generally increase as the number of previous claims rises, with a noticeable upward trend from 1 to 6 claims.\n",
        "\n",
        "**Hypothesis Status:**Partially True – While premium amounts increase with higher claims, the premium for 1 claim is lower than for 0 claims, indicating some variation in the trend."
      ],
      "metadata": {
        "id": "hXea0dNDDUvv"
      }
    },
    {
      "cell_type": "markdown",
      "source": [
        "## **Formula Making**"
      ],
      "metadata": {
        "id": "uf8_ge3BDmy8"
      }
    },
    {
      "cell_type": "markdown",
      "source": [
        "The code is calculating adjustment factors for Age and Location under the Basic Policy type. These factors help quantify how much the premium amount increases or decreases relative to the base premium. These adjustment factors can later be used to build a pricing formula for calculating premiums based on age and location."
      ],
      "metadata": {
        "id": "9nlQMd25F7Yt"
      }
    },
    {
      "cell_type": "markdown",
      "source": [
        "**For Basic value b we take medain of each policy type**,The Base Premium serves as the reference point to measure how much premiums vary by Age and Location."
      ],
      "metadata": {
        "id": "tIkQ_IgVGDL0"
      }
    },
    {
      "cell_type": "markdown",
      "source": [
        "**Groups the each  Policy data by Age Group.**\n",
        "Calculates the mean premium for each Age Group.\n",
        "Computes the Age Factor by comparing each age group's mean premium to the Base Premium using this formula:\n",
        "\n",
        "\n",
        "Age Factor\n",
        "=\n",
        "(\n",
        "Mean Premium for Age Group\n",
        "−\n",
        "Base Premium\n",
        ")\n",
        "Base Premium\n",
        "Age Factor=\n",
        "Base Premium\n",
        "(Mean Premium for Age Group−Base Premium)\n",
        "​\n",
        "\n"
      ],
      "metadata": {
        "id": "cHnwA057GSy1"
      }
    },
    {
      "cell_type": "markdown",
      "source": [
        "**Groups the each Policy data by Location.**\n",
        "Calculates the mean premium for each location (e.g., Tier-1, Tier-2, Tier-3).\n",
        "Computes the Location Factor using the same formula as Age Factor."
      ],
      "metadata": {
        "id": "zm-0f3TZGoD-"
      }
    },
    {
      "cell_type": "code",
      "source": [
        "# Assuming df_full contains all 120,000 records\n",
        "base_premium_basic = df[df['Policy Type'] == 'Basic']['Premium Amount'].median()\n",
        "print(f\"✅ Base Premium (Basic Policy from Full Data): ₹{base_premium_basic:.2f}\")\n",
        "\n",
        "# Filter only Basic policies\n",
        "df_basic = df[df['Policy Type'] == 'Basic']\n",
        "\n",
        "# Calculate Age Factors (mean method)\n",
        "age_factors_basic = df_basic.groupby('Age Group')['Premium Amount'].mean().reset_index()\n",
        "age_factors_basic['Age Factor'] = (age_factors_basic['Premium Amount'] - base_premium_basic) / base_premium_basic\n",
        "\n",
        "print(\"\\n✅ Age Adjustment Factors (Basic Policy - Full Data):\")\n",
        "print(age_factors_basic)\n",
        "\n",
        "# Calculate Location Factors (mean method)\n",
        "location_factors_basic = df_basic.groupby('Location')['Premium Amount'].mean().reset_index()\n",
        "location_factors_basic['Location Factor'] = (location_factors_basic['Premium Amount'] - base_premium_basic) / base_premium_basic\n",
        "\n",
        "print(\"\\n✅ Location Adjustment Factors (Basic Policy - Full Data):\")\n",
        "print(location_factors_basic)"
      ],
      "metadata": {
        "colab": {
          "base_uri": "https://localhost:8080/"
        },
        "id": "aLPbqU_CGUId",
        "outputId": "1213dd18-888b-4733-f23f-babc4cfe914a"
      },
      "execution_count": null,
      "outputs": [
        {
          "output_type": "stream",
          "name": "stdout",
          "text": [
            "✅ Base Premium (Basic Policy from Full Data): ₹10825.14\n",
            "\n",
            "✅ Age Adjustment Factors (Basic Policy - Full Data):\n",
            "  Age Group  Premium Amount  Age Factor\n",
            "0     18-30        14259.28        0.32\n",
            "1     31-50        15300.27        0.41\n",
            "2       51+        29131.29        1.69\n",
            "\n",
            "✅ Location Adjustment Factors (Basic Policy - Full Data):\n",
            "  Location  Premium Amount  Location Factor\n",
            "0   Tier-1        19542.62             0.81\n",
            "1   Tier-2        19393.83             0.79\n",
            "2   Tier-3        19040.39             0.76\n"
          ]
        }
      ]
    },
    {
      "cell_type": "code",
      "source": [
        "# Base Premium (Comprehensive Policy from Full Data)\n",
        "base_premium_comprehensive = df[df['Policy Type'] == 'Comprehensive']['Premium Amount'].median()\n",
        "print(f\"✅ Base Premium (Comprehensive Policy from Full Data): ₹{base_premium_comprehensive:.2f}\")\n",
        "\n",
        "# Filter only Comprehensive policies\n",
        "df_comprehensive = df[df['Policy Type'] == 'Comprehensive']\n",
        "\n",
        "# Calculate Age Factors (mean method)\n",
        "age_factors_comprehensive = df_comprehensive.groupby('Age Group')['Premium Amount'].mean().reset_index()\n",
        "age_factors_comprehensive['Age Factor'] = (age_factors_comprehensive['Premium Amount'] - base_premium_comprehensive) / base_premium_comprehensive\n",
        "\n",
        "print(\"\\n✅ Age Adjustment Factors (Comprehensive Policy - Full Data):\")\n",
        "print(age_factors_comprehensive)\n",
        "\n",
        "# Calculate Location Factors (mean method)\n",
        "location_factors_comprehensive = df_comprehensive.groupby('Location')['Premium Amount'].mean().reset_index()\n",
        "location_factors_comprehensive['Location Factor'] = (location_factors_comprehensive['Premium Amount'] - base_premium_comprehensive) / base_premium_comprehensive\n",
        "\n",
        "print(\"\\n✅ Location Adjustment Factors (Comprehensive Policy - Full Data):\")\n",
        "print(location_factors_comprehensive)"
      ],
      "metadata": {
        "colab": {
          "base_uri": "https://localhost:8080/"
        },
        "id": "5JyFtjqCG2Vk",
        "outputId": "a0e13e0e-b1ab-4ef0-d695-b1008fad1515"
      },
      "execution_count": null,
      "outputs": [
        {
          "output_type": "stream",
          "name": "stdout",
          "text": [
            "✅ Base Premium (Comprehensive Policy from Full Data): ₹11397.64\n",
            "\n",
            "✅ Age Adjustment Factors (Comprehensive Policy - Full Data):\n",
            "  Age Group  Premium Amount  Age Factor\n",
            "0     18-30        14953.29        0.31\n",
            "1     31-50        15951.82        0.40\n",
            "2       51+        30567.09        1.68\n",
            "\n",
            "✅ Location Adjustment Factors (Comprehensive Policy - Full Data):\n",
            "  Location  Premium Amount  Location Factor\n",
            "0   Tier-1        20323.39             0.78\n",
            "1   Tier-2        20375.34             0.79\n",
            "2   Tier-3        20056.35             0.76\n"
          ]
        }
      ]
    },
    {
      "cell_type": "code",
      "source": [
        "# Base Premium (Premium Policy from Full Data)\n",
        "base_premium_premium = df[df['Policy Type'] == 'Premium']['Premium Amount'].median()\n",
        "print(f\"✅ Base Premium (Premium Policy from Full Data): ₹{base_premium_premium:.2f}\")\n",
        "\n",
        "# Filter only Premium policies\n",
        "df_premium = df[df['Policy Type'] == 'Premium']\n",
        "\n",
        "# Calculate Age Factors (mean method)\n",
        "age_factors_premium = df_premium.groupby('Age Group')['Premium Amount'].mean().reset_index()\n",
        "age_factors_premium['Age Factor'] = (age_factors_premium['Premium Amount'] - base_premium_premium) / base_premium_premium\n",
        "\n",
        "print(\"\\n✅ Age Adjustment Factors (Premium Policy - Full Data):\")\n",
        "print(age_factors_premium)\n",
        "\n",
        "# Calculate Location Factors (mean method)\n",
        "location_factors_premium = df_premium.groupby('Location')['Premium Amount'].mean().reset_index()\n",
        "location_factors_premium['Location Factor'] = (location_factors_premium['Premium Amount'] - base_premium_premium) / base_premium_premium\n",
        "\n",
        "print(\"\\n✅ Location Adjustment Factors (Premium Policy - Full Data):\")\n",
        "print(location_factors_premium)"
      ],
      "metadata": {
        "colab": {
          "base_uri": "https://localhost:8080/"
        },
        "id": "4t9jogIJHANy",
        "outputId": "9226cdf1-b5bf-4c4f-95cf-f2ed85de13b6"
      },
      "execution_count": null,
      "outputs": [
        {
          "output_type": "stream",
          "name": "stdout",
          "text": [
            "✅ Base Premium (Premium Policy from Full Data): ₹12952.51\n",
            "\n",
            "✅ Age Adjustment Factors (Premium Policy - Full Data):\n",
            "  Age Group  Premium Amount  Age Factor\n",
            "0     18-30        16899.40        0.30\n",
            "1     31-50        18001.85        0.39\n",
            "2       51+        33519.55        1.59\n",
            "\n",
            "✅ Location Adjustment Factors (Premium Policy - Full Data):\n",
            "  Location  Premium Amount  Location Factor\n",
            "0   Tier-1        22759.68             0.76\n",
            "1   Tier-2        22628.89             0.75\n",
            "2   Tier-3        22264.68             0.72\n"
          ]
        }
      ]
    },
    {
      "cell_type": "markdown",
      "source": [
        "For previous_claims_factor, exercise_factors, health_score_factors, smoking_factor we get the facors from Hypothisis-\n",
        "\n",
        "    previous_claims_factors = {\n",
        "        0: 0.00,\n",
        "        1: 0.05,\n",
        "        2: 0.10,\n",
        "        3: 0.15,\n",
        "        4: 0.20,\n",
        "        5: 0.25\n",
        "    }\n",
        "\n",
        "\n",
        "    smoking_factor = 0.1312 if smoking_status == 'Yes' else 0.00\n",
        "\n",
        "\n",
        "        exercise_factors = {\n",
        "        'Daily': 0.00,\n",
        "        'Weekly': 0.0002,\n",
        "        'Monthly': 0.0482,\n",
        "        'Rarely': 0.3151\n",
        "    }\n",
        "\n",
        "    health_score_factors = {\n",
        "        'High': 0.2930,\n",
        "        'Medium': 0.1863,\n",
        "        'Low': 0.00\n",
        "    }"
      ],
      "metadata": {
        "id": "r7ADP_cnHW1g"
      }
    },
    {
      "cell_type": "code",
      "source": [
        "# Risk Adjustment Data\n",
        "data = {\n",
        "   'Basic': {\n",
        "       'Age': {\n",
        "           '18-30': (14259.28, 0.32),\n",
        "           '31-50': (15300.27, 0.41),\n",
        "           '51+': (29131.29, 1.69)\n",
        "    },\n",
        "    'Location': {\n",
        "           'Tier-1': (19542.62, 0.81),\n",
        "           'Tier-2': (19393.83, 0.79),\n",
        "           'Tier-3': (19040.39, 0.76)\n",
        "    }\n",
        "    },\n",
        "  'Comprehensive': {\n",
        "    'Age': {\n",
        "          '18-30': (14953.29, 0.31),\n",
        "          '31-50': (15951.82, 0.40),\n",
        "          '51+': (30567.09, 1.68)\n",
        "    },\n",
        "    'Location': {\n",
        "          'Tier-1': (20323.39, 0.78),\n",
        "          'Tier-2': (20375.34, 0.79),\n",
        "          'Tier-3': (20056.35, 0.76)\n",
        "    }\n",
        "    },\n",
        "  'Premium': {\n",
        "    'Age': {\n",
        "        '18-30': (16899.40, 0.30),\n",
        "        '31-50': (18001.85, 0.39),\n",
        "        '51+': (33519.55, 1.59)\n",
        "    },\n",
        "    'Location': {\n",
        "        'Tier-1': (22759.68, 0.76),\n",
        "        'Tier-2': (22628.89, 0.75),\n",
        "        'Tier-3': (22264.68, 0.72)\n",
        "    }\n",
        "    }\n",
        "}\n",
        "\n",
        "# Risk Adjustment Factors\n",
        "def get_risk_factors(smoking_status, exercise_freq, health_score, previous_claims):\n",
        "    smoking_factor = 0.1312 if smoking_status == 'Yes' else 0.00\n",
        "\n",
        "    # Previous Claims Adjustment\n",
        "    previous_claims_factors = {\n",
        "        0: 0.00,\n",
        "        1: 0.05,\n",
        "        2: 0.10,\n",
        "        3: 0.15,\n",
        "        4: 0.20,\n",
        "        5: 0.25\n",
        "    }\n",
        "    # Get factor, default to 0.25 if claims exceed 5\n",
        "    previous_claims_factor = previous_claims_factors.get(previous_claims, 0.25)\n",
        "\n",
        "\n",
        "\n",
        "    exercise_factors = {\n",
        "        'Daily': 0.00,\n",
        "        'Weekly': 0.0002,\n",
        "        'Monthly': 0.0482,\n",
        "        'Rarely': 0.3151\n",
        "    }\n",
        "    exercise_factor = exercise_factors.get(exercise_freq, 0.00)\n",
        "\n",
        "    health_score_factors = {\n",
        "        'High': 0.2930,\n",
        "        'Medium': 0.1863,\n",
        "        'Low': 0.00\n",
        "    }\n",
        "    health_score_factor = health_score_factors.get(health_score, 0.00)\n",
        "\n",
        "    return smoking_factor, exercise_factor, health_score_factor , previous_claims_factor\n",
        "\n",
        "# Function to calculate premium\n",
        "def calculate_final_premium(row):\n",
        "    policy_type = row['Policy Type']\n",
        "    age_group = row['Age Group']\n",
        "    location = row['Location']\n",
        "\n",
        "    # Check if policy type, age group, location are valid\n",
        "    if policy_type not in data or age_group not in data[policy_type]['Age'] or location not in data[policy_type]['Location']:\n",
        "        return None\n",
        "\n",
        "    # Get base premium and factors\n",
        "    age_premium, age_factor = data[policy_type]['Age'][age_group]\n",
        "    loc_premium, loc_factor = data[policy_type]['Location'][location]\n",
        "\n",
        "    # Get risk factors\n",
        "    smoking_factor, exercise_factor, health_score_factor, previous_claims_factor = get_risk_factors(row['Smoking Status'], row['Exercise Frequency'], row['Health Score'],row['Previous Claims'])\n",
        "\n",
        "    # Calculate final premium\n",
        "    age_factor\n",
        "    base_premium = age_premium\n",
        "    total_factor = loc_factor + smoking_factor + exercise_factor + health_score_factor + previous_claims_factor\n",
        "    final_premium = base_premium * (1 + total_factor)\n",
        "\n",
        "    return round(final_premium, 2)\n",
        "\n",
        "# Assuming your DataFrame is called df\n",
        "df['Final Premium'] = df.apply(calculate_final_premium, axis=1)  # Apply function row-wise\n",
        "\n",
        "# Check the DataFrame with the new column\n",
        "print(df.head())"
      ],
      "metadata": {
        "colab": {
          "base_uri": "https://localhost:8080/"
        },
        "id": "O2TJ5EYwHmA8",
        "outputId": "564e50e8-9c9b-4f9f-90d1-4f111568270f"
      },
      "execution_count": null,
      "outputs": [
        {
          "output_type": "stream",
          "name": "stdout",
          "text": [
            "   id  Age Gender  Annual Income    Marital Status  Number of Dependents  \\\n",
            "0   0   19  Woman      864214.00    Spouse Present                     1   \n",
            "1   1   39  Woman      892701.25    Spouse Present                     3   \n",
            "2   2   23    Man     2201772.00  Formerly Married                     3   \n",
            "3   3   21    Man     3997541.99    Spouse Present                     2   \n",
            "4   4   21    Man     3409986.00       Not Married                     1   \n",
            "\n",
            "  Education Level Occupation  Health Score Location  ... Insurance Duration  \\\n",
            "0   Undergraduate   Business         26.60   Tier-1  ...               5.00   \n",
            "1   Post Graduate    Missing         21.57   Tier-2  ...               2.00   \n",
            "2   Undergraduate   Business         50.18   Tier-3  ...               3.00   \n",
            "3   Undergraduate    Missing         16.94   Tier-2  ...               1.00   \n",
            "4   Undergraduate   Business         24.38   Tier-2  ...               4.00   \n",
            "\n",
            "           Policy Start Date  Customer Feedback  Smoking Status  \\\n",
            "0 2023-12-23 15:21:39.134960               Poor              No   \n",
            "1 2023-06-12 15:21:39.111551            Average             Yes   \n",
            "2 2023-09-30 15:21:39.221386               Good             Yes   \n",
            "3 2024-06-12 15:21:39.226954               Poor             Yes   \n",
            "4 2021-12-01 15:21:39.252145               Poor             Yes   \n",
            "\n",
            "  Exercise Frequency  Property Type Premium Amount Age Group  \\\n",
            "0             Weekly  Detached Home        2690.70     18-30   \n",
            "1            Monthly  Detached Home       10908.90     31-50   \n",
            "2             Weekly  Detached Home       21563.14     18-30   \n",
            "3              Daily           Flat        2690.70     18-30   \n",
            "4             Weekly  Detached Home        2690.70     18-30   \n",
            "\n",
            "  Health Score Category  Final Premium  \n",
            "0                Medium       31436.26  \n",
            "1                Medium       32213.11  \n",
            "2                  High       32132.52  \n",
            "3                   Low       28107.89  \n",
            "4                Medium       31794.53  \n",
            "\n",
            "[5 rows x 23 columns]\n"
          ]
        }
      ]
    },
    {
      "cell_type": "code",
      "source": [
        "df['Final Premium']"
      ],
      "metadata": {
        "colab": {
          "base_uri": "https://localhost:8080/",
          "height": 458
        },
        "id": "5r4hgO1XHznA",
        "outputId": "0edea8d3-84ff-47d4-ed44-d1f60d0c4d3f"
      },
      "execution_count": null,
      "outputs": [
        {
          "output_type": "execute_result",
          "data": {
            "text/plain": [
              "0         31436.26\n",
              "1         32213.11\n",
              "2         32132.52\n",
              "3         28107.89\n",
              "4         31794.53\n",
              "            ...   \n",
              "1199995   32583.35\n",
              "1199996   56249.56\n",
              "1199997   25783.63\n",
              "1199998   59329.60\n",
              "1199999   32605.70\n",
              "Name: Final Premium, Length: 1198440, dtype: float64"
            ],
            "text/html": [
              "<div>\n",
              "<style scoped>\n",
              "    .dataframe tbody tr th:only-of-type {\n",
              "        vertical-align: middle;\n",
              "    }\n",
              "\n",
              "    .dataframe tbody tr th {\n",
              "        vertical-align: top;\n",
              "    }\n",
              "\n",
              "    .dataframe thead th {\n",
              "        text-align: right;\n",
              "    }\n",
              "</style>\n",
              "<table border=\"1\" class=\"dataframe\">\n",
              "  <thead>\n",
              "    <tr style=\"text-align: right;\">\n",
              "      <th></th>\n",
              "      <th>Final Premium</th>\n",
              "    </tr>\n",
              "  </thead>\n",
              "  <tbody>\n",
              "    <tr>\n",
              "      <th>0</th>\n",
              "      <td>31436.26</td>\n",
              "    </tr>\n",
              "    <tr>\n",
              "      <th>1</th>\n",
              "      <td>32213.11</td>\n",
              "    </tr>\n",
              "    <tr>\n",
              "      <th>2</th>\n",
              "      <td>32132.52</td>\n",
              "    </tr>\n",
              "    <tr>\n",
              "      <th>3</th>\n",
              "      <td>28107.89</td>\n",
              "    </tr>\n",
              "    <tr>\n",
              "      <th>4</th>\n",
              "      <td>31794.53</td>\n",
              "    </tr>\n",
              "    <tr>\n",
              "      <th>...</th>\n",
              "      <td>...</td>\n",
              "    </tr>\n",
              "    <tr>\n",
              "      <th>1199995</th>\n",
              "      <td>32583.35</td>\n",
              "    </tr>\n",
              "    <tr>\n",
              "      <th>1199996</th>\n",
              "      <td>56249.56</td>\n",
              "    </tr>\n",
              "    <tr>\n",
              "      <th>1199997</th>\n",
              "      <td>25783.63</td>\n",
              "    </tr>\n",
              "    <tr>\n",
              "      <th>1199998</th>\n",
              "      <td>59329.60</td>\n",
              "    </tr>\n",
              "    <tr>\n",
              "      <th>1199999</th>\n",
              "      <td>32605.70</td>\n",
              "    </tr>\n",
              "  </tbody>\n",
              "</table>\n",
              "<p>1198440 rows × 1 columns</p>\n",
              "</div><br><label><b>dtype:</b> float64</label>"
            ]
          },
          "metadata": {},
          "execution_count": 58
        }
      ]
    },
    {
      "cell_type": "markdown",
      "source": [
        "## **Affordability Of Price**"
      ],
      "metadata": {
        "id": "3NdtHCSXIGDe"
      }
    },
    {
      "cell_type": "code",
      "source": [
        "df['IPR'] = (df['Final Premium'] / df['Annual Income']) * 100"
      ],
      "metadata": {
        "id": "KIeXdL_dIPV2"
      },
      "execution_count": null,
      "outputs": []
    },
    {
      "cell_type": "markdown",
      "source": [
        "**The Income-to-Premium Ratio (IPR)** is a financial metric that measures how much of a person's Annual Income is spent on their Health Insurance Premium. It is expressed as a percentage and helps assess the affordability of the insurance policy."
      ],
      "metadata": {
        "id": "Qj7fCrVPIs7v"
      }
    },
    {
      "cell_type": "markdown",
      "source": [
        "The IPR (Insurance Premium to Income Ratio) helps measure how affordable a health insurance premium is relative to annual income. The thresholds (2, 4, 12) are based on financial guidelines:\n",
        "\n",
        "≤ 2%: Higher Affordability – Minimal financial burden.\n",
        "\n",
        "2% to 4%: High Affordability – Reasonable premium cost.\n",
        "\n",
        "4% to 12%: Moderate Affordability – Manageable but higher expense.\n",
        "\n",
        "> 12%: Low Affordability – Significant financial strain.\n",
        "\n",
        "These values are chosen to reflect practical affordability levels and industry benchmarks."
      ],
      "metadata": {
        "id": "Nrndpek3KKsl"
      }
    },
    {
      "cell_type": "code",
      "source": [
        "def categorize_affordability(ipr):\n",
        "    if ipr <= 2:\n",
        "        return 'Higher Affordability'\n",
        "    elif 2 < ipr <= 4:\n",
        "        return 'High Affordability'\n",
        "    elif 4 < ipr <= 12:  # Increased range from 10 to 12\n",
        "        return 'Moderate Affordability'\n",
        "    else:\n",
        "        return 'Low Affordability'\n",
        "\n",
        "# Apply the updated affordability categories\n",
        "df['Affordability_Category'] = df['IPR'].apply(categorize_affordability)\n",
        "\n",
        "# Check the updated category distribution\n",
        "print(df['Affordability_Category'].value_counts(normalize=True) * 100)"
      ],
      "metadata": {
        "colab": {
          "base_uri": "https://localhost:8080/"
        },
        "id": "PCW4ElsjKOTX",
        "outputId": "6df92bc6-b3fa-41c6-b476-691bbd556af0"
      },
      "execution_count": null,
      "outputs": [
        {
          "output_type": "stream",
          "name": "stdout",
          "text": [
            "Affordability_Category\n",
            "Moderate Affordability   33.09\n",
            "Higher Affordability     25.35\n",
            "High Affordability       21.42\n",
            "Low Affordability        20.14\n",
            "Name: proportion, dtype: float64\n"
          ]
        }
      ]
    },
    {
      "cell_type": "markdown",
      "source": [
        "## **Overall Analysis:**"
      ],
      "metadata": {
        "id": "ZNnT1KbaSmTb"
      }
    },
    {
      "cell_type": "markdown",
      "source": [
        "*  **Age** directly influences premium amounts—older individuals pay higher premiums—making age a true factor for premium calculation adjustments.\n",
        "*  **Tier-1** cities have slightly higher premiums compared to **Tier-2 **and **Tier-3**, but the variation is small. This indicates location has a minor effect on premium pricing.\n",
        "*  **Premium** policyholders pay the highest premiums, followed by **Comprehensive**, and **Basic** policies have the lowest premiums. Policy type directly affects premium calculations.\n",
        "*  **Smokers** consistently pay higher premiums than **non-smokers**, confirming a direct impact.\n",
        "*  **Higher health scores** result in higher premiums, while **lower health scores** correspond to lower premiums,\n",
        "*  **Zero claims** are associated with higher premiums, while individuals with 1 to 6 prior claims have increasing premium amounts.\n",
        "* **Regular exercise reduces health risks**, leading to lower premiums, confirming that exercise frequency directly affects premium costs\n",
        "\n",
        "\n",
        "\n",
        "\n",
        "\n",
        "\n",
        "\n",
        "\n"
      ],
      "metadata": {
        "id": "tQ40j3x6Rh3Y"
      }
    },
    {
      "cell_type": "markdown",
      "source": [
        "## **Recommendations:**"
      ],
      "metadata": {
        "id": "zBaURRRnRbpz"
      }
    },
    {
      "cell_type": "markdown",
      "source": [
        "*  **Target Low & Moderate Affordability Groups (53.23% Total):**Offer customized discounts or flexible payment plans to make premiums more manageable.\n",
        "*  **Affordable Policy Variants:** Design basic coverage plans tailored for Low and Moderate Affordability groups to capture a broader market.\n",
        "*   **Income-Based Premium Plans:**Implement tiered pricing tied to income brackets to improve affordability and attract new customers.\n",
        "* **Segment-Specific Marketing**:Focus marketing efforts on the Low Affordability segment by highlighting cost-saving benefits and value-added services.\n",
        "*  **Focus Offers on the Low Affordability Segment:** Discounts & Payment Flexibility: Provide limited-time discounts or EMI options to ease the financial burden.\n",
        "*  **Incentives for High Affordability Segment:**Premium Upgrades: Offer value-added services (e.g., dental, vision, or wellness programs) to encourage policy upgrades.\n",
        "\n",
        "\n",
        "\n",
        "\n",
        "\n"
      ],
      "metadata": {
        "id": "DO0vnuUpTKw9"
      }
    }
  ]
}